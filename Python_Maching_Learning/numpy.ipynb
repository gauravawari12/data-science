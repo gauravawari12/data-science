{
  "cells": [
    {
      "cell_type": "markdown",
      "metadata": {
        "id": "view-in-github",
        "colab_type": "text"
      },
      "source": [
        "<a href=\"https://colab.research.google.com/github/gauravawari12/data-science/blob/main/Python_Maching_Learning/numpy.ipynb\" target=\"_parent\"><img src=\"https://colab.research.google.com/assets/colab-badge.svg\" alt=\"Open In Colab\"/></a>"
      ]
    },
    {
      "cell_type": "code",
      "execution_count": null,
      "id": "a11721f8",
      "metadata": {
        "id": "a11721f8"
      },
      "outputs": [],
      "source": [
        "import numpy as np\n",
        "import pandas as pd\n",
        "from matplotlib.image import imread"
      ]
    },
    {
      "cell_type": "code",
      "execution_count": null,
      "id": "42b912a2",
      "metadata": {
        "id": "42b912a2",
        "outputId": "f56577f4-fdf7-44ce-fca5-33958b4a3300"
      },
      "outputs": [
        {
          "data": {
            "text/plain": [
              "array([3, 3, 3, 3])"
            ]
          },
          "execution_count": 3,
          "metadata": {},
          "output_type": "execute_result"
        }
      ],
      "source": [
        "np.array([3] * 4, dtype=\"int32\")\n",
        "\n"
      ]
    },
    {
      "cell_type": "markdown",
      "id": "ddfccf3e",
      "metadata": {
        "id": "ddfccf3e"
      },
      "source": [
        "# data-types and atrribute"
      ]
    },
    {
      "cell_type": "code",
      "execution_count": null,
      "id": "093f9e7c",
      "metadata": {
        "id": "093f9e7c"
      },
      "outputs": [],
      "source": [
        "a1 = np.array([1, 2, 3])\n",
        "\n",
        "a2 = np.array([[1, 2.0, 3.3],\n",
        "               [4, 5, 6.5]])\n",
        "\n",
        "a3 = np.array([[[1, 2, 3],\n",
        "                [4, 5, 6],\n",
        "                [7, 8, 9]],\n",
        "               [[10, 11, 12],\n",
        "                [13, 14, 15],\n",
        "                [16, 17, 18]]])"
      ]
    },
    {
      "cell_type": "code",
      "execution_count": null,
      "id": "4b039cfb",
      "metadata": {
        "id": "4b039cfb",
        "outputId": "b12b56cb-a44d-43fd-a262-0dc8a1f738f6"
      },
      "outputs": [
        {
          "data": {
            "text/plain": [
              "(1, 2, 3)"
            ]
          },
          "execution_count": 3,
          "metadata": {},
          "output_type": "execute_result"
        }
      ],
      "source": [
        "a1.ndim,a2.ndim,a3.ndim"
      ]
    },
    {
      "cell_type": "code",
      "execution_count": null,
      "id": "05766d67",
      "metadata": {
        "id": "05766d67",
        "outputId": "8068265c-135e-424b-c480-4155abe9d709"
      },
      "outputs": [
        {
          "data": {
            "text/plain": [
              "(3,)"
            ]
          },
          "execution_count": 4,
          "metadata": {},
          "output_type": "execute_result"
        }
      ],
      "source": [
        "a1.shape"
      ]
    },
    {
      "cell_type": "code",
      "execution_count": null,
      "id": "38d62550",
      "metadata": {
        "id": "38d62550",
        "outputId": "6df5bffe-ba85-44e4-cf9a-1a82588ac17c"
      },
      "outputs": [
        {
          "data": {
            "text/plain": [
              "(2, 3)"
            ]
          },
          "execution_count": 5,
          "metadata": {},
          "output_type": "execute_result"
        }
      ],
      "source": [
        "a2.shape"
      ]
    },
    {
      "cell_type": "code",
      "execution_count": null,
      "id": "4517d141",
      "metadata": {
        "id": "4517d141",
        "outputId": "15e213f2-483e-4c0a-f72c-b72dd3643ec5"
      },
      "outputs": [
        {
          "data": {
            "text/plain": [
              "(2, 3, 3)"
            ]
          },
          "execution_count": 7,
          "metadata": {},
          "output_type": "execute_result"
        }
      ],
      "source": [
        "a3.shape"
      ]
    },
    {
      "cell_type": "code",
      "execution_count": null,
      "id": "53016796",
      "metadata": {
        "id": "53016796",
        "outputId": "b1dab4a5-a55b-4213-b4e0-65ae19a0ef9c"
      },
      "outputs": [
        {
          "data": {
            "text/plain": [
              "(3, 6, 18)"
            ]
          },
          "execution_count": 8,
          "metadata": {},
          "output_type": "execute_result"
        }
      ],
      "source": [
        "a1.size,a2.size,a3.size"
      ]
    },
    {
      "cell_type": "code",
      "execution_count": null,
      "id": "062872fc",
      "metadata": {
        "id": "062872fc",
        "outputId": "8b383085-e820-4a7c-e7d4-541055e6b3f8"
      },
      "outputs": [
        {
          "data": {
            "text/plain": [
              "(numpy.ndarray, numpy.ndarray, numpy.ndarray)"
            ]
          },
          "execution_count": 9,
          "metadata": {},
          "output_type": "execute_result"
        }
      ],
      "source": [
        "type(a1),type(a2),type(a3)"
      ]
    },
    {
      "cell_type": "code",
      "execution_count": null,
      "id": "728d3e5c",
      "metadata": {
        "id": "728d3e5c",
        "outputId": "a977a7d8-40ba-4123-cd59-e995bf6d817c"
      },
      "outputs": [
        {
          "data": {
            "text/plain": [
              "(dtype('int32'), dtype('float64'), dtype('int32'))"
            ]
          },
          "execution_count": 10,
          "metadata": {},
          "output_type": "execute_result"
        }
      ],
      "source": [
        "a1.dtype,a2.dtype,a3.dtype"
      ]
    },
    {
      "cell_type": "code",
      "execution_count": null,
      "id": "12ba8679",
      "metadata": {
        "id": "12ba8679",
        "outputId": "e6a8386c-db8e-4c01-92ef-fa82145c4154"
      },
      "outputs": [
        {
          "data": {
            "text/html": [
              "<div>\n",
              "<style scoped>\n",
              "    .dataframe tbody tr th:only-of-type {\n",
              "        vertical-align: middle;\n",
              "    }\n",
              "\n",
              "    .dataframe tbody tr th {\n",
              "        vertical-align: top;\n",
              "    }\n",
              "\n",
              "    .dataframe thead th {\n",
              "        text-align: right;\n",
              "    }\n",
              "</style>\n",
              "<table border=\"1\" class=\"dataframe\">\n",
              "  <thead>\n",
              "    <tr style=\"text-align: right;\">\n",
              "      <th></th>\n",
              "      <th>0</th>\n",
              "      <th>1</th>\n",
              "      <th>2</th>\n",
              "    </tr>\n",
              "  </thead>\n",
              "  <tbody>\n",
              "    <tr>\n",
              "      <th>0</th>\n",
              "      <td>1.0</td>\n",
              "      <td>2.0</td>\n",
              "      <td>3.3</td>\n",
              "    </tr>\n",
              "    <tr>\n",
              "      <th>1</th>\n",
              "      <td>4.0</td>\n",
              "      <td>5.0</td>\n",
              "      <td>6.5</td>\n",
              "    </tr>\n",
              "  </tbody>\n",
              "</table>\n",
              "</div>"
            ],
            "text/plain": [
              "     0    1    2\n",
              "0  1.0  2.0  3.3\n",
              "1  4.0  5.0  6.5"
            ]
          },
          "execution_count": 11,
          "metadata": {},
          "output_type": "execute_result"
        }
      ],
      "source": [
        "#create dataframe form  np array\n",
        "import pandas as pd\n",
        "df=pd.DataFrame(a2)\n",
        "df"
      ]
    },
    {
      "cell_type": "code",
      "execution_count": null,
      "id": "f99b6b94",
      "metadata": {
        "id": "f99b6b94",
        "outputId": "f2a85b45-bb22-4618-e808-754f06a30371"
      },
      "outputs": [
        {
          "data": {
            "text/plain": [
              "array([1, 2, 3])"
            ]
          },
          "execution_count": 12,
          "metadata": {},
          "output_type": "execute_result"
        }
      ],
      "source": [
        "sample_array = np.array([1,2,3])\n",
        "sample_array"
      ]
    },
    {
      "cell_type": "code",
      "execution_count": null,
      "id": "1ca11fab",
      "metadata": {
        "id": "1ca11fab",
        "outputId": "01c0826a-4cf6-4776-9b41-b659ed85db51"
      },
      "outputs": [
        {
          "data": {
            "text/plain": [
              "dtype('int32')"
            ]
          },
          "execution_count": 13,
          "metadata": {},
          "output_type": "execute_result"
        }
      ],
      "source": [
        "sample_array.dtype\n"
      ]
    },
    {
      "cell_type": "code",
      "execution_count": null,
      "id": "8e5eaceb",
      "metadata": {
        "id": "8e5eaceb",
        "outputId": "e51a8024-86e2-4d5f-f626-54b2c4821d60"
      },
      "outputs": [
        {
          "data": {
            "text/plain": [
              "array([[1., 1., 1.],\n",
              "       [1., 1., 1.]])"
            ]
          },
          "execution_count": 15,
          "metadata": {},
          "output_type": "execute_result"
        }
      ],
      "source": [
        "ones = np.ones((2,3))\n",
        "ones"
      ]
    },
    {
      "cell_type": "code",
      "execution_count": null,
      "id": "cbeb7d2a",
      "metadata": {
        "id": "cbeb7d2a",
        "outputId": "a6147c67-c62d-4a2e-aebd-c977a3fade77"
      },
      "outputs": [
        {
          "data": {
            "text/plain": [
              "dtype('float64')"
            ]
          },
          "execution_count": 17,
          "metadata": {},
          "output_type": "execute_result"
        }
      ],
      "source": [
        "ones.dtype"
      ]
    },
    {
      "cell_type": "code",
      "execution_count": null,
      "id": "348a7ad3",
      "metadata": {
        "id": "348a7ad3",
        "outputId": "30475ee8-927e-4d7e-fc13-d1a9815fe417"
      },
      "outputs": [
        {
          "data": {
            "text/plain": [
              "6"
            ]
          },
          "execution_count": 19,
          "metadata": {},
          "output_type": "execute_result"
        }
      ],
      "source": [
        "ones.size"
      ]
    },
    {
      "cell_type": "code",
      "execution_count": null,
      "id": "b30b6b45",
      "metadata": {
        "id": "b30b6b45",
        "outputId": "ec57ca87-bbad-4312-d233-194137b455a7"
      },
      "outputs": [
        {
          "data": {
            "text/plain": [
              "array([[0., 0., 0.],\n",
              "       [0., 0., 0.]])"
            ]
          },
          "execution_count": 21,
          "metadata": {},
          "output_type": "execute_result"
        }
      ],
      "source": [
        "zeros= np.zeros((2,3))\n",
        "zeros"
      ]
    },
    {
      "cell_type": "code",
      "execution_count": null,
      "id": "e629bfaf",
      "metadata": {
        "id": "e629bfaf",
        "outputId": "7e28fc94-6124-450b-9fad-3c9596f50b03",
        "colab": {
          "base_uri": "https://localhost:8080/"
        }
      },
      "outputs": [
        {
          "output_type": "execute_result",
          "data": {
            "text/plain": [
              "array([0, 2, 4, 6, 8])"
            ]
          },
          "metadata": {},
          "execution_count": 4
        }
      ],
      "source": [
        "range_array = np.arange(0,10,2)\n",
        "range_array"
      ]
    },
    {
      "cell_type": "code",
      "execution_count": null,
      "id": "edb2764d",
      "metadata": {
        "id": "edb2764d",
        "outputId": "64de3144-bd49-4c3e-b950-7823b9208315"
      },
      "outputs": [
        {
          "data": {
            "text/plain": [
              "array([[9, 1, 1],\n",
              "       [9, 9, 5],\n",
              "       [6, 2, 5],\n",
              "       [1, 7, 2],\n",
              "       [6, 3, 0]])"
            ]
          },
          "execution_count": 24,
          "metadata": {},
          "output_type": "execute_result"
        }
      ],
      "source": [
        "random_array = np.random.randint(0,10,size=(5,3))\n",
        "random_array"
      ]
    },
    {
      "cell_type": "code",
      "execution_count": null,
      "id": "20eb033c",
      "metadata": {
        "id": "20eb033c",
        "outputId": "997c47cc-7ee9-4895-a080-d67d44a1619b"
      },
      "outputs": [
        {
          "data": {
            "text/plain": [
              "array([[0.33924417, 0.110447  , 0.63373963, 0.35792515],\n",
              "       [0.16056781, 0.58277226, 0.07523342, 0.87035307],\n",
              "       [0.18881268, 0.08706774, 0.18021497, 0.1529403 ]])"
            ]
          },
          "execution_count": 25,
          "metadata": {},
          "output_type": "execute_result"
        }
      ],
      "source": [
        "random_array2 = np.random.random((3,4))\n",
        "random_array2 #random vale is between 0 to 1"
      ]
    },
    {
      "cell_type": "code",
      "execution_count": null,
      "id": "41866a78",
      "metadata": {
        "id": "41866a78",
        "outputId": "518436a2-b34c-4560-e07c-a54edaf7d3e3"
      },
      "outputs": [
        {
          "data": {
            "text/plain": [
              "array([[0.01531375, 0.23715729, 0.86634865, 0.22486613],\n",
              "       [0.78404242, 0.87719113, 0.46554399, 0.34038893],\n",
              "       [0.85799323, 0.81761962, 0.79263524, 0.21442668]])"
            ]
          },
          "execution_count": 27,
          "metadata": {},
          "output_type": "execute_result"
        }
      ],
      "source": [
        "random_array3 = np.random.rand(3,4)\n",
        "random_array3"
      ]
    },
    {
      "cell_type": "code",
      "execution_count": null,
      "id": "6e111737",
      "metadata": {
        "id": "6e111737",
        "outputId": "8dc4f16a-3e4f-4538-b496-8e3bd861b98e"
      },
      "outputs": [
        {
          "data": {
            "text/plain": [
              "array([[0, 3, 1],\n",
              "       [8, 1, 3],\n",
              "       [8, 5, 6],\n",
              "       [0, 6, 0],\n",
              "       [4, 0, 9]])"
            ]
          },
          "execution_count": 29,
          "metadata": {},
          "output_type": "execute_result"
        }
      ],
      "source": [
        "np.random.seed(seed=99999)  #if you want to share a nootbook \n",
        "#random change no every run if keep it same then use seed once create not change\n",
        "random_array_4 = np.random.randint(10, size=(5, 3))\n",
        "random_array_4"
      ]
    },
    {
      "cell_type": "code",
      "execution_count": null,
      "id": "8ea07200",
      "metadata": {
        "id": "8ea07200",
        "outputId": "7fe770d7-dbfd-40ef-f629-22cda8a0ad6a"
      },
      "outputs": [
        {
          "data": {
            "text/plain": [
              "array([[0.07630829, 0.77991879, 0.43840923],\n",
              "       [0.72346518, 0.97798951, 0.53849587],\n",
              "       [0.50112046, 0.07205113, 0.26843898],\n",
              "       [0.4998825 , 0.67923   , 0.80373904],\n",
              "       [0.38094113, 0.06593635, 0.2881456 ]])"
            ]
          },
          "execution_count": 30,
          "metadata": {},
          "output_type": "execute_result"
        }
      ],
      "source": [
        "np.random.seed(7)\n",
        "random_array_5 = np.random.random((5, 3))\n",
        "random_array_5"
      ]
    },
    {
      "cell_type": "markdown",
      "id": "e2057a21",
      "metadata": {
        "id": "e2057a21"
      },
      "source": [
        "## Viewing arrays and matrices"
      ]
    },
    {
      "cell_type": "code",
      "execution_count": null,
      "id": "07813f5b",
      "metadata": {
        "id": "07813f5b",
        "outputId": "bea9f911-d5ea-4fc7-eec6-6f7c95ba1c2c"
      },
      "outputs": [
        {
          "data": {
            "text/plain": [
              "array([0, 1, 3, 4, 5, 6, 8, 9])"
            ]
          },
          "execution_count": 33,
          "metadata": {},
          "output_type": "execute_result"
        }
      ],
      "source": [
        "np.unique(random_array_4)"
      ]
    },
    {
      "cell_type": "code",
      "execution_count": null,
      "id": "ce5e218f",
      "metadata": {
        "id": "ce5e218f",
        "outputId": "c2e5bade-f196-4722-f6a4-b810b11e0833"
      },
      "outputs": [
        {
          "data": {
            "text/plain": [
              "1"
            ]
          },
          "execution_count": 34,
          "metadata": {},
          "output_type": "execute_result"
        }
      ],
      "source": [
        "a1[0]"
      ]
    },
    {
      "cell_type": "code",
      "execution_count": null,
      "id": "9881f7df",
      "metadata": {
        "id": "9881f7df",
        "outputId": "9376238f-7c6c-4796-a95c-d27c688bb832"
      },
      "outputs": [
        {
          "data": {
            "text/plain": [
              "(2, 3)"
            ]
          },
          "execution_count": 35,
          "metadata": {},
          "output_type": "execute_result"
        }
      ],
      "source": [
        "a2.shape"
      ]
    },
    {
      "cell_type": "code",
      "execution_count": null,
      "id": "69255429",
      "metadata": {
        "id": "69255429",
        "outputId": "7ff64dc0-2301-4e87-f6dd-a4d4efb2514f"
      },
      "outputs": [
        {
          "data": {
            "text/plain": [
              "array([1. , 2. , 3.3])"
            ]
          },
          "execution_count": 36,
          "metadata": {},
          "output_type": "execute_result"
        }
      ],
      "source": [
        "a2[0]"
      ]
    },
    {
      "cell_type": "code",
      "execution_count": null,
      "id": "ffcf506b",
      "metadata": {
        "id": "ffcf506b",
        "outputId": "67938a94-cee1-42b4-8553-cf9c69786a1f"
      },
      "outputs": [
        {
          "data": {
            "text/plain": [
              "array([[1, 2, 3],\n",
              "       [4, 5, 6],\n",
              "       [7, 8, 9]])"
            ]
          },
          "execution_count": 37,
          "metadata": {},
          "output_type": "execute_result"
        }
      ],
      "source": [
        "a3[0]"
      ]
    },
    {
      "cell_type": "code",
      "execution_count": null,
      "id": "c3e1305c",
      "metadata": {
        "id": "c3e1305c",
        "outputId": "3035668a-66d5-4382-b17a-f0042abc8cdb"
      },
      "outputs": [
        {
          "data": {
            "text/plain": [
              "array([[[ 1,  2],\n",
              "        [ 4,  5]],\n",
              "\n",
              "       [[10, 11],\n",
              "        [13, 14]]])"
            ]
          },
          "execution_count": 38,
          "metadata": {},
          "output_type": "execute_result"
        }
      ],
      "source": [
        "a3[:2, :2, :2]"
      ]
    },
    {
      "cell_type": "code",
      "execution_count": null,
      "id": "98146c23",
      "metadata": {
        "id": "98146c23",
        "outputId": "116d9858-a7fa-4191-e0ce-a2f07bacee96"
      },
      "outputs": [
        {
          "data": {
            "text/plain": [
              "array([[[[3, 5, 8, 8, 7],\n",
              "         [5, 0, 0, 2, 8],\n",
              "         [9, 6, 4, 9, 7],\n",
              "         [3, 3, 8, 3, 0]],\n",
              "\n",
              "        [[1, 0, 0, 6, 7],\n",
              "         [7, 9, 3, 0, 7],\n",
              "         [7, 7, 0, 5, 4],\n",
              "         [3, 1, 3, 1, 3]],\n",
              "\n",
              "        [[4, 3, 1, 9, 5],\n",
              "         [9, 1, 2, 3, 2],\n",
              "         [2, 5, 7, 3, 0],\n",
              "         [9, 9, 3, 4, 5]]],\n",
              "\n",
              "\n",
              "       [[[3, 0, 4, 8, 6],\n",
              "         [7, 2, 7, 3, 8],\n",
              "         [6, 6, 5, 6, 5],\n",
              "         [7, 1, 5, 4, 4]],\n",
              "\n",
              "        [[9, 9, 0, 6, 2],\n",
              "         [6, 8, 2, 4, 1],\n",
              "         [6, 1, 5, 1, 6],\n",
              "         [9, 8, 6, 5, 9]],\n",
              "\n",
              "        [[7, 5, 4, 9, 6],\n",
              "         [8, 1, 5, 5, 8],\n",
              "         [3, 7, 7, 9, 4],\n",
              "         [7, 5, 9, 6, 2]]]])"
            ]
          },
          "execution_count": 39,
          "metadata": {},
          "output_type": "execute_result"
        }
      ],
      "source": [
        "a4 = np.random.randint(10, size=(2, 3, 4, 5))\n",
        "a4"
      ]
    },
    {
      "cell_type": "code",
      "execution_count": null,
      "id": "7bf894b0",
      "metadata": {
        "id": "7bf894b0",
        "outputId": "1a223eeb-3e70-49f4-ad27-cc9943af42ed"
      },
      "outputs": [
        {
          "data": {
            "text/plain": [
              "array([[[[3, 0, 4, 8]]]])"
            ]
          },
          "execution_count": 43,
          "metadata": {},
          "output_type": "execute_result"
        }
      ],
      "source": [
        "a4[1:2,0:1,0:1,:4]"
      ]
    },
    {
      "cell_type": "code",
      "execution_count": null,
      "id": "d7459e58",
      "metadata": {
        "id": "d7459e58",
        "outputId": "f192f7c0-20f5-40bc-a9f6-85ece447bf14"
      },
      "outputs": [
        {
          "data": {
            "text/plain": [
              "array([[[[3, 5, 8, 8],\n",
              "         [5, 0, 0, 2],\n",
              "         [9, 6, 4, 9],\n",
              "         [3, 3, 8, 3]],\n",
              "\n",
              "        [[1, 0, 0, 6],\n",
              "         [7, 9, 3, 0],\n",
              "         [7, 7, 0, 5],\n",
              "         [3, 1, 3, 1]],\n",
              "\n",
              "        [[4, 3, 1, 9],\n",
              "         [9, 1, 2, 3],\n",
              "         [2, 5, 7, 3],\n",
              "         [9, 9, 3, 4]]],\n",
              "\n",
              "\n",
              "       [[[3, 0, 4, 8],\n",
              "         [7, 2, 7, 3],\n",
              "         [6, 6, 5, 6],\n",
              "         [7, 1, 5, 4]],\n",
              "\n",
              "        [[9, 9, 0, 6],\n",
              "         [6, 8, 2, 4],\n",
              "         [6, 1, 5, 1],\n",
              "         [9, 8, 6, 5]],\n",
              "\n",
              "        [[7, 5, 4, 9],\n",
              "         [8, 1, 5, 5],\n",
              "         [3, 7, 7, 9],\n",
              "         [7, 5, 9, 6]]]])"
            ]
          },
          "execution_count": 44,
          "metadata": {},
          "output_type": "execute_result"
        }
      ],
      "source": [
        "a4[:,:,:,:4]"
      ]
    },
    {
      "cell_type": "code",
      "execution_count": null,
      "id": "11b5ccd3",
      "metadata": {
        "id": "11b5ccd3",
        "outputId": "dce2debb-d4a6-4bae-fcd2-a7d90df883bf"
      },
      "outputs": [
        {
          "data": {
            "text/plain": [
              "((2, 3, 4, 5), 4)"
            ]
          },
          "execution_count": 45,
          "metadata": {},
          "output_type": "execute_result"
        }
      ],
      "source": [
        "a4.shape, a4.ndim"
      ]
    },
    {
      "cell_type": "markdown",
      "id": "f0a9fd78",
      "metadata": {
        "id": "f0a9fd78"
      },
      "source": [
        "# Manipulating & comparing arrays"
      ]
    },
    {
      "cell_type": "markdown",
      "id": "c36d5ea8",
      "metadata": {
        "id": "c36d5ea8"
      },
      "source": [
        "## Arithmetic"
      ]
    },
    {
      "cell_type": "code",
      "execution_count": null,
      "id": "0e24fe67",
      "metadata": {
        "id": "0e24fe67",
        "outputId": "cafccd03-7a5f-4213-974d-520ed9dcd399"
      },
      "outputs": [
        {
          "data": {
            "text/plain": [
              "array([1, 2, 3])"
            ]
          },
          "execution_count": 46,
          "metadata": {},
          "output_type": "execute_result"
        }
      ],
      "source": [
        "a1"
      ]
    },
    {
      "cell_type": "code",
      "execution_count": null,
      "id": "2105a715",
      "metadata": {
        "id": "2105a715",
        "outputId": "56efb328-fa19-4912-ebd3-52d538c6835c"
      },
      "outputs": [
        {
          "data": {
            "text/plain": [
              "array([[1. , 2. , 3.3],\n",
              "       [4. , 5. , 6.5]])"
            ]
          },
          "execution_count": 47,
          "metadata": {},
          "output_type": "execute_result"
        }
      ],
      "source": [
        "a2"
      ]
    },
    {
      "cell_type": "code",
      "execution_count": null,
      "id": "8caa31a0",
      "metadata": {
        "id": "8caa31a0",
        "outputId": "de1dd192-ddb9-40ea-9add-51e35d43184c"
      },
      "outputs": [
        {
          "data": {
            "text/plain": [
              "array([[[ 1,  2,  3],\n",
              "        [ 4,  5,  6],\n",
              "        [ 7,  8,  9]],\n",
              "\n",
              "       [[10, 11, 12],\n",
              "        [13, 14, 15],\n",
              "        [16, 17, 18]]])"
            ]
          },
          "execution_count": 48,
          "metadata": {},
          "output_type": "execute_result"
        }
      ],
      "source": [
        "a3"
      ]
    },
    {
      "cell_type": "code",
      "execution_count": null,
      "id": "1114412f",
      "metadata": {
        "id": "1114412f",
        "outputId": "f58f0756-6779-4b7d-96cb-6cf6e02851b2"
      },
      "outputs": [
        {
          "data": {
            "text/plain": [
              "array([[1., 1., 1.],\n",
              "       [1., 1., 1.]])"
            ]
          },
          "execution_count": 50,
          "metadata": {},
          "output_type": "execute_result"
        }
      ],
      "source": [
        "ones"
      ]
    },
    {
      "cell_type": "code",
      "execution_count": null,
      "id": "301e41a4",
      "metadata": {
        "id": "301e41a4",
        "outputId": "13aadbdb-4b70-4c61-fd81-d862ec35a5ae"
      },
      "outputs": [
        {
          "data": {
            "text/plain": [
              "array([[2., 3., 4.],\n",
              "       [2., 3., 4.]])"
            ]
          },
          "execution_count": 51,
          "metadata": {},
          "output_type": "execute_result"
        }
      ],
      "source": [
        "a1+ones"
      ]
    },
    {
      "cell_type": "code",
      "execution_count": null,
      "id": "079176a3",
      "metadata": {
        "id": "079176a3",
        "outputId": "1f4f8f17-77c5-4164-ccf0-22ecc3eedc4f"
      },
      "outputs": [
        {
          "data": {
            "text/plain": [
              "array([[1., 2., 3.],\n",
              "       [1., 2., 3.]])"
            ]
          },
          "execution_count": 52,
          "metadata": {},
          "output_type": "execute_result"
        }
      ],
      "source": [
        "a1*ones\n"
      ]
    },
    {
      "cell_type": "code",
      "execution_count": null,
      "id": "38ec479e",
      "metadata": {
        "id": "38ec479e",
        "outputId": "738397db-442a-421c-9bd3-bc93859dbc5b"
      },
      "outputs": [
        {
          "data": {
            "text/plain": [
              "array([[0., 1., 2.],\n",
              "       [0., 1., 2.]])"
            ]
          },
          "execution_count": 53,
          "metadata": {},
          "output_type": "execute_result"
        }
      ],
      "source": [
        "a1-ones"
      ]
    },
    {
      "cell_type": "code",
      "execution_count": null,
      "id": "22eaaed8",
      "metadata": {
        "id": "22eaaed8",
        "outputId": "b0b93e43-4524-40f7-f897-1810f8e880e7"
      },
      "outputs": [
        {
          "data": {
            "text/plain": [
              "array([0, 1, 2])"
            ]
          },
          "execution_count": 54,
          "metadata": {},
          "output_type": "execute_result"
        }
      ],
      "source": [
        "a1-1"
      ]
    },
    {
      "cell_type": "code",
      "execution_count": null,
      "id": "45a6c3c7",
      "metadata": {
        "id": "45a6c3c7",
        "outputId": "6536eb4d-4c8e-464a-d835-c7805a7f9409"
      },
      "outputs": [
        {
          "data": {
            "text/plain": [
              "array([[ 1. ,  4. ,  9.9],\n",
              "       [ 4. , 10. , 19.5]])"
            ]
          },
          "execution_count": 55,
          "metadata": {},
          "output_type": "execute_result"
        }
      ],
      "source": [
        "a1*a2"
      ]
    },
    {
      "cell_type": "code",
      "execution_count": null,
      "id": "c93beb0b",
      "metadata": {
        "id": "c93beb0b"
      },
      "outputs": [],
      "source": [
        "# How can you reshape a2 to be compatible with a3? \n",
        "# Search: \"How to reshape numpy array\"\n",
        "#a2 * a3"
      ]
    },
    {
      "cell_type": "code",
      "execution_count": null,
      "id": "9cc4f3bf",
      "metadata": {
        "id": "9cc4f3bf",
        "outputId": "1524be27-89f5-460f-e415-48d7541daf28"
      },
      "outputs": [
        {
          "data": {
            "text/plain": [
              "array([[1., 1., 0.],\n",
              "       [0., 0., 0.]])"
            ]
          },
          "execution_count": 58,
          "metadata": {},
          "output_type": "execute_result"
        }
      ],
      "source": [
        "a1//a2"
      ]
    },
    {
      "cell_type": "code",
      "execution_count": null,
      "id": "f77c82d6",
      "metadata": {
        "id": "f77c82d6",
        "outputId": "a905fffd-dd76-42ac-c2dc-3e3f63c48bd5"
      },
      "outputs": [
        {
          "data": {
            "text/plain": [
              "array([1, 4, 9], dtype=int32)"
            ]
          },
          "execution_count": 59,
          "metadata": {},
          "output_type": "execute_result"
        }
      ],
      "source": [
        "a1**2"
      ]
    },
    {
      "cell_type": "code",
      "execution_count": null,
      "id": "d8b0e525",
      "metadata": {
        "id": "d8b0e525",
        "outputId": "2de2369c-4c26-496c-b0b2-bc52391d0c2d"
      },
      "outputs": [
        {
          "data": {
            "text/plain": [
              "array([1, 0, 1], dtype=int32)"
            ]
          },
          "execution_count": 60,
          "metadata": {},
          "output_type": "execute_result"
        }
      ],
      "source": [
        "a1 %2"
      ]
    },
    {
      "cell_type": "code",
      "execution_count": null,
      "id": "23bd6288",
      "metadata": {
        "id": "23bd6288",
        "outputId": "a84fe449-0f2d-4cad-d71b-03e2b182f391"
      },
      "outputs": [
        {
          "data": {
            "text/plain": [
              "array([[1.        , 1.        , 0.90909091],\n",
              "       [0.25      , 0.4       , 0.46153846]])"
            ]
          },
          "execution_count": 62,
          "metadata": {},
          "output_type": "execute_result"
        }
      ],
      "source": [
        "a1/a2"
      ]
    },
    {
      "cell_type": "code",
      "execution_count": null,
      "id": "694ea49b",
      "metadata": {
        "id": "694ea49b",
        "outputId": "fa7857a2-67ee-4f12-960a-a6cf78a2739e"
      },
      "outputs": [
        {
          "data": {
            "text/plain": [
              "array([[1., 1., 0.],\n",
              "       [0., 0., 0.]])"
            ]
          },
          "execution_count": 63,
          "metadata": {},
          "output_type": "execute_result"
        }
      ],
      "source": [
        "a1//a2"
      ]
    },
    {
      "cell_type": "code",
      "execution_count": null,
      "id": "8b62173a",
      "metadata": {
        "id": "8b62173a",
        "outputId": "e2c9d4a0-318e-4b10-d973-49f899bc52d3"
      },
      "outputs": [
        {
          "data": {
            "text/plain": [
              "array([0.        , 0.69314718, 1.09861229])"
            ]
          },
          "execution_count": 64,
          "metadata": {},
          "output_type": "execute_result"
        }
      ],
      "source": [
        "np.log(a1)"
      ]
    },
    {
      "cell_type": "code",
      "execution_count": null,
      "id": "c13d6b1d",
      "metadata": {
        "id": "c13d6b1d",
        "outputId": "0ad52d67-f777-416b-e8a4-704b85836dd2"
      },
      "outputs": [
        {
          "data": {
            "text/plain": [
              "array([ 2.71828183,  7.3890561 , 20.08553692])"
            ]
          },
          "execution_count": 65,
          "metadata": {},
          "output_type": "execute_result"
        }
      ],
      "source": [
        "np.exp(a1)"
      ]
    },
    {
      "cell_type": "markdown",
      "id": "e8f37fcc",
      "metadata": {
        "id": "e8f37fcc"
      },
      "source": [
        "# Aggregation"
      ]
    },
    {
      "cell_type": "markdown",
      "id": "69348ca7",
      "metadata": {
        "id": "69348ca7"
      },
      "source": [
        "Aggregation = performing the same operation on a number of things"
      ]
    },
    {
      "cell_type": "code",
      "execution_count": null,
      "id": "0bbbb1d4",
      "metadata": {
        "id": "0bbbb1d4",
        "outputId": "9b3ec6af-cfad-4cee-f721-f6995810d1cf"
      },
      "outputs": [
        {
          "data": {
            "text/plain": [
              "list"
            ]
          },
          "execution_count": 66,
          "metadata": {},
          "output_type": "execute_result"
        }
      ],
      "source": [
        "listy_list = [1, 2, 3]\n",
        "type(listy_list)"
      ]
    },
    {
      "cell_type": "code",
      "execution_count": null,
      "id": "7a293a8e",
      "metadata": {
        "id": "7a293a8e",
        "outputId": "fd57c263-74f8-4ebc-db6d-f56262e2075d"
      },
      "outputs": [
        {
          "data": {
            "text/plain": [
              "6"
            ]
          },
          "execution_count": 67,
          "metadata": {},
          "output_type": "execute_result"
        }
      ],
      "source": [
        "sum(listy_list)\n"
      ]
    },
    {
      "cell_type": "code",
      "execution_count": null,
      "id": "63f73403",
      "metadata": {
        "id": "63f73403",
        "outputId": "ecccface-1d08-4652-dd6e-5c16bbd00eb6"
      },
      "outputs": [
        {
          "data": {
            "text/plain": [
              "6"
            ]
          },
          "execution_count": 68,
          "metadata": {},
          "output_type": "execute_result"
        }
      ],
      "source": [
        "np.sum(a1)"
      ]
    },
    {
      "cell_type": "markdown",
      "id": "2e64dfb8",
      "metadata": {
        "id": "2e64dfb8"
      },
      "source": [
        "Use Python's methods (sum()) on Python datatypes and use NumPy's methods on NumPy arrays (np.sum())."
      ]
    },
    {
      "cell_type": "code",
      "execution_count": null,
      "id": "8196ca36",
      "metadata": {
        "id": "8196ca36",
        "outputId": "d6ad146e-5530-43bd-823e-7c539e9dcb9e"
      },
      "outputs": [
        {
          "data": {
            "text/plain": [
              "100000"
            ]
          },
          "execution_count": 69,
          "metadata": {},
          "output_type": "execute_result"
        }
      ],
      "source": [
        "# Creative a massive NumPy array\n",
        "massive_array = np.random.random(100000)\n",
        "massive_array.size"
      ]
    },
    {
      "cell_type": "code",
      "execution_count": null,
      "id": "514e9981",
      "metadata": {
        "id": "514e9981",
        "outputId": "31e68973-da3e-4c41-96b1-84d30eb68c6f"
      },
      "outputs": [
        {
          "data": {
            "text/plain": [
              "array([0.82845319, 0.94180927, 0.12814785, 0.23043067, 0.6591584 ,\n",
              "       0.13247399, 0.22407864, 0.57486259, 0.16952372, 0.78223015])"
            ]
          },
          "execution_count": 70,
          "metadata": {},
          "output_type": "execute_result"
        }
      ],
      "source": [
        "massive_array[:10]"
      ]
    },
    {
      "cell_type": "code",
      "execution_count": null,
      "id": "eddad9bd",
      "metadata": {
        "id": "eddad9bd",
        "outputId": "baad1c9c-85bc-4ce6-d2df-d5876db1e4d4"
      },
      "outputs": [
        {
          "name": "stdout",
          "output_type": "stream",
          "text": [
            "12.7 ms ± 1.46 ms per loop (mean ± std. dev. of 7 runs, 100 loops each)\n",
            "59.9 µs ± 7.97 µs per loop (mean ± std. dev. of 7 runs, 10000 loops each)\n"
          ]
        }
      ],
      "source": [
        "%timeit sum(massive_array) # Python's sum()\n",
        "%timeit np.sum(massive_array) # NumPy's np.sum()"
      ]
    },
    {
      "cell_type": "code",
      "execution_count": null,
      "id": "feba25a0",
      "metadata": {
        "id": "feba25a0",
        "outputId": "4fbc7090-38fb-4479-daac-14b787beb441"
      },
      "outputs": [
        {
          "data": {
            "text/plain": [
              "array([[1. , 2. , 3.3],\n",
              "       [4. , 5. , 6.5]])"
            ]
          },
          "execution_count": 72,
          "metadata": {},
          "output_type": "execute_result"
        }
      ],
      "source": [
        "a2"
      ]
    },
    {
      "cell_type": "code",
      "execution_count": null,
      "id": "801f419e",
      "metadata": {
        "id": "801f419e",
        "outputId": "1f77d8f5-966a-4fec-8084-198dc87eea81"
      },
      "outputs": [
        {
          "data": {
            "text/plain": [
              "3.6333333333333333"
            ]
          },
          "execution_count": 73,
          "metadata": {},
          "output_type": "execute_result"
        }
      ],
      "source": [
        "np.mean(a2)"
      ]
    },
    {
      "cell_type": "code",
      "execution_count": null,
      "id": "9fe59b13",
      "metadata": {
        "id": "9fe59b13",
        "outputId": "2cddf192-7ea3-4b30-82e8-e11d1eb62cc8"
      },
      "outputs": [
        {
          "data": {
            "text/plain": [
              "6.5"
            ]
          },
          "execution_count": 74,
          "metadata": {},
          "output_type": "execute_result"
        }
      ],
      "source": [
        "np.max(a2)"
      ]
    },
    {
      "cell_type": "code",
      "execution_count": null,
      "id": "55033cb6",
      "metadata": {
        "id": "55033cb6",
        "outputId": "9d74740f-a981-412e-8f57-f213b248e3db"
      },
      "outputs": [
        {
          "data": {
            "text/plain": [
              "1.0"
            ]
          },
          "execution_count": 75,
          "metadata": {},
          "output_type": "execute_result"
        }
      ],
      "source": [
        "np.min(a2)"
      ]
    },
    {
      "cell_type": "markdown",
      "id": "41c48825",
      "metadata": {
        "id": "41c48825"
      },
      "source": [
        "Standard deviation and variance are measures of 'spread' of data.\n",
        "\n",
        "The higher standard deviation and the higher variance of data, the more spread out the values are.\n",
        "\n",
        "The lower standard deviation and lower variance, the less spread out the values are."
      ]
    },
    {
      "cell_type": "code",
      "execution_count": null,
      "id": "f1731077",
      "metadata": {
        "id": "f1731077",
        "outputId": "85eab95a-7008-4d9c-9f5a-79452cd07cc0"
      },
      "outputs": [
        {
          "data": {
            "text/plain": [
              "1.8226964152656422"
            ]
          },
          "execution_count": 76,
          "metadata": {},
          "output_type": "execute_result"
        }
      ],
      "source": [
        "# Standard deviation = a measure of how spread out a group of numbers is from the mean\n",
        "np.std(a2)"
      ]
    },
    {
      "cell_type": "code",
      "execution_count": null,
      "id": "10dda021",
      "metadata": {
        "id": "10dda021",
        "outputId": "c6a45340-517e-4b38-bd73-b8bfb2915588"
      },
      "outputs": [
        {
          "data": {
            "text/plain": [
              "3.3222222222222224"
            ]
          },
          "execution_count": 77,
          "metadata": {},
          "output_type": "execute_result"
        }
      ],
      "source": [
        "# Variance = measure of the average degree to which each number is different to the mean\n",
        "# Higher variance = wider range of numbers\n",
        "# Lower variance = lower range of numbers\n",
        "np.var(a2)"
      ]
    },
    {
      "cell_type": "code",
      "execution_count": null,
      "id": "27d92ce1",
      "metadata": {
        "id": "27d92ce1",
        "outputId": "c95b63d9-e8a1-408e-cab6-b050e5c7bbda"
      },
      "outputs": [
        {
          "data": {
            "text/plain": [
              "1.8226964152656422"
            ]
          },
          "execution_count": 78,
          "metadata": {},
          "output_type": "execute_result"
        }
      ],
      "source": [
        "# Standard deviation = squareroot of variance\n",
        "np.sqrt(np.var(a2))"
      ]
    },
    {
      "cell_type": "code",
      "execution_count": null,
      "id": "419cdaa8",
      "metadata": {
        "id": "419cdaa8"
      },
      "outputs": [],
      "source": [
        "# Demo of std and var\n",
        "high_var_array = np.array([1, 100, 200, 300, 4000, 5000])\n",
        "low_var_array = np.array([2, 4, 6, 8, 10])"
      ]
    },
    {
      "cell_type": "code",
      "execution_count": null,
      "id": "2c60adfb",
      "metadata": {
        "id": "2c60adfb",
        "outputId": "b29b1b46-82ec-4f11-8b1e-a3adba2475c4"
      },
      "outputs": [
        {
          "data": {
            "text/plain": [
              "(4296133.472222221, 8.0)"
            ]
          },
          "execution_count": 80,
          "metadata": {},
          "output_type": "execute_result"
        }
      ],
      "source": [
        "np.var(high_var_array), np.var(low_var_array)"
      ]
    },
    {
      "cell_type": "code",
      "execution_count": null,
      "id": "8689b725",
      "metadata": {
        "id": "8689b725",
        "outputId": "7b6e1efb-f829-49d9-cd87-f02f52f50d0c"
      },
      "outputs": [
        {
          "data": {
            "text/plain": [
              "(2072.711623024829, 2.8284271247461903)"
            ]
          },
          "execution_count": 81,
          "metadata": {},
          "output_type": "execute_result"
        }
      ],
      "source": [
        "np.std(high_var_array), np.std(low_var_array)"
      ]
    },
    {
      "cell_type": "code",
      "execution_count": null,
      "id": "68f944d7",
      "metadata": {
        "id": "68f944d7",
        "outputId": "d5e92a2e-8333-4cb2-a54d-10245b7d4584"
      },
      "outputs": [
        {
          "data": {
            "text/plain": [
              "(1600.1666666666667, 6.0)"
            ]
          },
          "execution_count": 82,
          "metadata": {},
          "output_type": "execute_result"
        }
      ],
      "source": [
        "np.mean(high_var_array), np.mean(low_var_array)"
      ]
    },
    {
      "cell_type": "code",
      "execution_count": null,
      "id": "d38f5e50",
      "metadata": {
        "id": "d38f5e50",
        "outputId": "3db1b39c-f169-493b-cec1-76a5b6c2a602"
      },
      "outputs": [
        {
          "data": {
            "image/png": "[encoded data removed]",
            "text/plain": [
              "<Figure size 432x288 with 1 Axes>"
            ]
          },
          "metadata": {
            "needs_background": "light"
          },
          "output_type": "display_data"
        }
      ],
      "source": [
        "%matplotlib inline\n",
        "import matplotlib.pyplot as plt\n",
        "plt.hist(high_var_array)\n",
        "plt.show()"
      ]
    },
    {
      "cell_type": "code",
      "execution_count": null,
      "id": "04ee65f7",
      "metadata": {
        "id": "04ee65f7",
        "outputId": "6615d076-9587-47e0-c9d7-461abe0e25b0"
      },
      "outputs": [
        {
          "data": {
            "image/png": "[encoded data removed]",
            "text/plain": [
              "<Figure size 432x288 with 1 Axes>"
            ]
          },
          "metadata": {
            "needs_background": "light"
          },
          "output_type": "display_data"
        }
      ],
      "source": [
        "plt.hist(low_var_array)\n",
        "plt.show()"
      ]
    },
    {
      "cell_type": "markdown",
      "id": "46decefb",
      "metadata": {
        "id": "46decefb"
      },
      "source": [
        "# Reshaping & transposing"
      ]
    },
    {
      "cell_type": "code",
      "execution_count": null,
      "id": "d87b68a1",
      "metadata": {
        "id": "d87b68a1",
        "outputId": "4d97e598-d33b-49c1-d396-e67166aa86d6"
      },
      "outputs": [
        {
          "data": {
            "text/plain": [
              "array([[1. , 2. , 3.3],\n",
              "       [4. , 5. , 6.5]])"
            ]
          },
          "execution_count": 86,
          "metadata": {},
          "output_type": "execute_result"
        }
      ],
      "source": [
        "a2"
      ]
    },
    {
      "cell_type": "code",
      "execution_count": null,
      "id": "08445aef",
      "metadata": {
        "id": "08445aef",
        "outputId": "ab4bc187-1336-45d5-9147-2cfd9132e4db"
      },
      "outputs": [
        {
          "data": {
            "text/plain": [
              "(2, 3)"
            ]
          },
          "execution_count": 87,
          "metadata": {},
          "output_type": "execute_result"
        }
      ],
      "source": [
        "a2.shape"
      ]
    },
    {
      "cell_type": "code",
      "execution_count": null,
      "id": "9f59eb80",
      "metadata": {
        "id": "9f59eb80",
        "outputId": "49d447d0-d735-4acb-b382-a64a4f9ee8c8"
      },
      "outputs": [
        {
          "data": {
            "text/plain": [
              "array([[[ 1,  2,  3],\n",
              "        [ 4,  5,  6],\n",
              "        [ 7,  8,  9]],\n",
              "\n",
              "       [[10, 11, 12],\n",
              "        [13, 14, 15],\n",
              "        [16, 17, 18]]])"
            ]
          },
          "execution_count": 88,
          "metadata": {},
          "output_type": "execute_result"
        }
      ],
      "source": [
        "a3"
      ]
    },
    {
      "cell_type": "code",
      "execution_count": null,
      "id": "0d8dccb7",
      "metadata": {
        "id": "0d8dccb7",
        "outputId": "3bf121b6-fe9a-42b3-f81e-c3d16390fc44"
      },
      "outputs": [
        {
          "data": {
            "text/plain": [
              "(2, 3, 3)"
            ]
          },
          "execution_count": 89,
          "metadata": {},
          "output_type": "execute_result"
        }
      ],
      "source": [
        "a3.shape"
      ]
    },
    {
      "cell_type": "code",
      "execution_count": null,
      "id": "07ceeb12",
      "metadata": {
        "id": "07ceeb12",
        "outputId": "01ebb80b-cad7-46bf-c8e7-447619e89658"
      },
      "outputs": [
        {
          "data": {
            "text/plain": [
              "(2, 3)"
            ]
          },
          "execution_count": 90,
          "metadata": {},
          "output_type": "execute_result"
        }
      ],
      "source": [
        "a2.shape"
      ]
    },
    {
      "cell_type": "code",
      "execution_count": null,
      "id": "49e12b32",
      "metadata": {
        "id": "49e12b32",
        "outputId": "5deef6d1-c0c0-4eee-edf8-6b0b551a729b"
      },
      "outputs": [
        {
          "data": {
            "text/plain": [
              "array([[[1. ],\n",
              "        [2. ],\n",
              "        [3.3]],\n",
              "\n",
              "       [[4. ],\n",
              "        [5. ],\n",
              "        [6.5]]])"
            ]
          },
          "execution_count": 94,
          "metadata": {},
          "output_type": "execute_result"
        }
      ],
      "source": [
        "a2_reshape=a2.reshape(2,3,1)\n",
        "a2_reshape"
      ]
    },
    {
      "cell_type": "code",
      "execution_count": null,
      "id": "0e0e95be",
      "metadata": {
        "id": "0e0e95be",
        "outputId": "6546919f-c137-4c54-90e8-53fdc878e0fe"
      },
      "outputs": [
        {
          "data": {
            "text/plain": [
              "array([[[  1. ,   2. ,   3. ],\n",
              "        [  8. ,  10. ,  12. ],\n",
              "        [ 23.1,  26.4,  29.7]],\n",
              "\n",
              "       [[ 40. ,  44. ,  48. ],\n",
              "        [ 65. ,  70. ,  75. ],\n",
              "        [104. , 110.5, 117. ]]])"
            ]
          },
          "execution_count": 95,
          "metadata": {},
          "output_type": "execute_result"
        }
      ],
      "source": [
        "a2_reshape*a3"
      ]
    },
    {
      "cell_type": "code",
      "execution_count": null,
      "id": "b73b129c",
      "metadata": {
        "id": "b73b129c",
        "outputId": "cda29b85-9578-4eee-99e0-d61bde18d042"
      },
      "outputs": [
        {
          "data": {
            "text/plain": [
              "array([[1. , 2. , 3.3],\n",
              "       [4. , 5. , 6.5]])"
            ]
          },
          "execution_count": 96,
          "metadata": {},
          "output_type": "execute_result"
        }
      ],
      "source": [
        "a2"
      ]
    },
    {
      "cell_type": "code",
      "execution_count": null,
      "id": "e30f0f9f",
      "metadata": {
        "id": "e30f0f9f",
        "outputId": "8c393abe-d06a-47d3-b777-65786e5a1162"
      },
      "outputs": [
        {
          "data": {
            "text/plain": [
              "(2, 3)"
            ]
          },
          "execution_count": 97,
          "metadata": {},
          "output_type": "execute_result"
        }
      ],
      "source": [
        "a2.shape"
      ]
    },
    {
      "cell_type": "code",
      "execution_count": null,
      "id": "8240bc39",
      "metadata": {
        "id": "8240bc39"
      },
      "outputs": [],
      "source": [
        "#transpose = switch the axis"
      ]
    },
    {
      "cell_type": "code",
      "execution_count": null,
      "id": "8db26a14",
      "metadata": {
        "id": "8db26a14",
        "outputId": "9a1f033e-ac59-4db9-9e4f-46c3df847d3b"
      },
      "outputs": [
        {
          "data": {
            "text/plain": [
              "(3, 2)"
            ]
          },
          "execution_count": 98,
          "metadata": {},
          "output_type": "execute_result"
        }
      ],
      "source": [
        "a2.T.shape"
      ]
    },
    {
      "cell_type": "code",
      "execution_count": null,
      "id": "6f6f3872",
      "metadata": {
        "id": "6f6f3872",
        "outputId": "a7e11272-b692-4eae-920a-cd93abc9225b"
      },
      "outputs": [
        {
          "data": {
            "text/plain": [
              "array([[1. , 4. ],\n",
              "       [2. , 5. ],\n",
              "       [3.3, 6.5]])"
            ]
          },
          "execution_count": 99,
          "metadata": {},
          "output_type": "execute_result"
        }
      ],
      "source": [
        "a2.T"
      ]
    },
    {
      "cell_type": "code",
      "execution_count": null,
      "id": "278c0ed4",
      "metadata": {
        "id": "278c0ed4",
        "outputId": "2f9922dc-1aca-45f3-aaa0-8fca115e7ee3"
      },
      "outputs": [
        {
          "data": {
            "text/plain": [
              "array([[[ 1,  2,  3],\n",
              "        [ 4,  5,  6],\n",
              "        [ 7,  8,  9]],\n",
              "\n",
              "       [[10, 11, 12],\n",
              "        [13, 14, 15],\n",
              "        [16, 17, 18]]])"
            ]
          },
          "execution_count": 100,
          "metadata": {},
          "output_type": "execute_result"
        }
      ],
      "source": [
        "a3"
      ]
    },
    {
      "cell_type": "code",
      "execution_count": null,
      "id": "caffee82",
      "metadata": {
        "id": "caffee82",
        "outputId": "760dd81e-8db6-4550-bbf3-e4c5647d3fcd"
      },
      "outputs": [
        {
          "data": {
            "text/plain": [
              "(2, 3, 3)"
            ]
          },
          "execution_count": 101,
          "metadata": {},
          "output_type": "execute_result"
        }
      ],
      "source": [
        "a3.shape"
      ]
    },
    {
      "cell_type": "code",
      "execution_count": null,
      "id": "3b58b191",
      "metadata": {
        "id": "3b58b191",
        "outputId": "0268bbba-1b6e-4e49-cfbf-4716472776cd"
      },
      "outputs": [
        {
          "data": {
            "text/plain": [
              "array([[[ 1, 10],\n",
              "        [ 4, 13],\n",
              "        [ 7, 16]],\n",
              "\n",
              "       [[ 2, 11],\n",
              "        [ 5, 14],\n",
              "        [ 8, 17]],\n",
              "\n",
              "       [[ 3, 12],\n",
              "        [ 6, 15],\n",
              "        [ 9, 18]]])"
            ]
          },
          "execution_count": 102,
          "metadata": {},
          "output_type": "execute_result"
        }
      ],
      "source": [
        "a3.T"
      ]
    },
    {
      "cell_type": "code",
      "execution_count": null,
      "id": "15c0275d",
      "metadata": {
        "id": "15c0275d",
        "outputId": "6b6f81f4-177a-43f4-8708-7daaf3eeeb72"
      },
      "outputs": [
        {
          "data": {
            "text/plain": [
              "(3, 3, 2)"
            ]
          },
          "execution_count": 103,
          "metadata": {},
          "output_type": "execute_result"
        }
      ],
      "source": [
        "a3.T.shape"
      ]
    },
    {
      "cell_type": "markdown",
      "id": "121ea94b",
      "metadata": {
        "id": "121ea94b"
      },
      "source": [
        "# Dot product"
      ]
    },
    {
      "cell_type": "code",
      "execution_count": null,
      "id": "b81200e5",
      "metadata": {
        "id": "b81200e5",
        "outputId": "ef626a59-ed5c-4f86-b964-c52cd9e0de05"
      },
      "outputs": [
        {
          "data": {
            "text/plain": [
              "array([[12, 15,  0],\n",
              "       [ 3,  3,  7],\n",
              "       [ 9, 19, 18],\n",
              "       [ 4,  6, 12],\n",
              "       [ 1,  6,  7]])"
            ]
          },
          "execution_count": 104,
          "metadata": {},
          "output_type": "execute_result"
        }
      ],
      "source": []
    },
    {
      "cell_type": "code",
      "execution_count": null,
      "id": "c7964b8a",
      "metadata": {
        "id": "c7964b8a",
        "outputId": "e2ccc9e3-c90f-4925-a2dc-5a5b27825895"
      },
      "outputs": [
        {
          "data": {
            "text/plain": [
              "array([[5, 0, 3],\n",
              "       [3, 7, 9],\n",
              "       [3, 5, 2],\n",
              "       [4, 7, 6],\n",
              "       [8, 8, 1]])"
            ]
          },
          "execution_count": 105,
          "metadata": {},
          "output_type": "execute_result"
        }
      ],
      "source": [
        "np.random.seed(0)\n",
        "\n",
        "mat1 = np.random.randint(10, size=(5, 3))\n",
        "mat2 = np.random.randint(10, size=(5, 3))\n",
        "\n",
        "mat1"
      ]
    },
    {
      "cell_type": "code",
      "execution_count": null,
      "id": "37bb7346",
      "metadata": {
        "id": "37bb7346",
        "outputId": "24347f0b-d030-47c8-ac38-a0444a273ca4"
      },
      "outputs": [
        {
          "data": {
            "text/plain": [
              "array([[6, 7, 7],\n",
              "       [8, 1, 5],\n",
              "       [9, 8, 9],\n",
              "       [4, 3, 0],\n",
              "       [3, 5, 0]])"
            ]
          },
          "execution_count": 106,
          "metadata": {},
          "output_type": "execute_result"
        }
      ],
      "source": [
        "mat2"
      ]
    },
    {
      "cell_type": "code",
      "execution_count": null,
      "id": "ed24d335",
      "metadata": {
        "id": "ed24d335",
        "outputId": "705c3dd1-fe8e-4b63-dc6a-fb33dd2c294f"
      },
      "outputs": [
        {
          "data": {
            "text/plain": [
              "((5, 3), (5, 3))"
            ]
          },
          "execution_count": 107,
          "metadata": {},
          "output_type": "execute_result"
        }
      ],
      "source": [
        "mat1.shape, mat2.shape"
      ]
    },
    {
      "cell_type": "code",
      "execution_count": null,
      "id": "856f516c",
      "metadata": {
        "id": "856f516c",
        "outputId": "5142ec04-2367-4716-e7f9-6ede68fd97a2"
      },
      "outputs": [
        {
          "data": {
            "text/plain": [
              "array([[5, 0, 3],\n",
              "       [3, 7, 9],\n",
              "       [3, 5, 2],\n",
              "       [4, 7, 6],\n",
              "       [8, 8, 1]])"
            ]
          },
          "execution_count": 108,
          "metadata": {},
          "output_type": "execute_result"
        }
      ],
      "source": [
        "mat1"
      ]
    },
    {
      "cell_type": "code",
      "execution_count": null,
      "id": "f74a61bd",
      "metadata": {
        "id": "f74a61bd",
        "outputId": "c4a7ac3f-4f74-4c12-9ac9-34c9c327750c"
      },
      "outputs": [
        {
          "data": {
            "text/plain": [
              "array([[6, 7, 7],\n",
              "       [8, 1, 5],\n",
              "       [9, 8, 9],\n",
              "       [4, 3, 0],\n",
              "       [3, 5, 0]])"
            ]
          },
          "execution_count": 109,
          "metadata": {},
          "output_type": "execute_result"
        }
      ],
      "source": [
        "mat2"
      ]
    },
    {
      "cell_type": "code",
      "execution_count": null,
      "id": "733306ce",
      "metadata": {
        "id": "733306ce",
        "outputId": "3d6389e2-c2bc-4431-b4b8-e866eca19dd0"
      },
      "outputs": [
        {
          "data": {
            "text/plain": [
              "array([[30,  0, 21],\n",
              "       [24,  7, 45],\n",
              "       [27, 40, 18],\n",
              "       [16, 21,  0],\n",
              "       [24, 40,  0]])"
            ]
          },
          "execution_count": 110,
          "metadata": {},
          "output_type": "execute_result"
        }
      ],
      "source": [
        "# Element-wise multiplication (Hadamard product)\n",
        "mat1 * mat2"
      ]
    },
    {
      "cell_type": "code",
      "execution_count": null,
      "id": "3f1a6e04",
      "metadata": {
        "id": "3f1a6e04",
        "outputId": "55182e0c-ef1f-4423-bfe7-a6a35262a354"
      },
      "outputs": [
        {
          "ename": "ValueError",
          "evalue": "shapes (5,3) and (5,3) not aligned: 3 (dim 1) != 5 (dim 0)",
          "output_type": "error",
          "traceback": [
            "\u001b[1;31m---------------------------------------------------------------------------\u001b[0m",
            "\u001b[1;31mValueError\u001b[0m                                Traceback (most recent call last)",
            "\u001b[1;32mC:\\Users\\GAURAV~1\\AppData\\Local\\Temp/ipykernel_22560/513433469.py\u001b[0m in \u001b[0;36m<module>\u001b[1;34m\u001b[0m\n\u001b[0;32m      1\u001b[0m \u001b[1;31m# Dot product\u001b[0m\u001b[1;33m\u001b[0m\u001b[1;33m\u001b[0m\u001b[0m\n\u001b[1;32m----> 2\u001b[1;33m \u001b[0mnp\u001b[0m\u001b[1;33m.\u001b[0m\u001b[0mdot\u001b[0m\u001b[1;33m(\u001b[0m\u001b[0mmat1\u001b[0m\u001b[1;33m,\u001b[0m \u001b[0mmat2\u001b[0m\u001b[1;33m)\u001b[0m\u001b[1;33m\u001b[0m\u001b[1;33m\u001b[0m\u001b[0m\n\u001b[0m",
            "\u001b[1;32m<__array_function__ internals>\u001b[0m in \u001b[0;36mdot\u001b[1;34m(*args, **kwargs)\u001b[0m\n",
            "\u001b[1;31mValueError\u001b[0m: shapes (5,3) and (5,3) not aligned: 3 (dim 1) != 5 (dim 0)"
          ]
        }
      ],
      "source": [
        "# Dot product\n",
        "np.dot(mat1, mat2)"
      ]
    },
    {
      "cell_type": "code",
      "execution_count": null,
      "id": "621311a5",
      "metadata": {
        "id": "621311a5",
        "outputId": "7a7b353e-fc7c-435b-c760-566f394cb1db"
      },
      "outputs": [
        {
          "data": {
            "text/plain": [
              "array([[5, 3, 3, 4, 8],\n",
              "       [0, 7, 5, 7, 8],\n",
              "       [3, 9, 2, 6, 1]])"
            ]
          },
          "execution_count": 112,
          "metadata": {},
          "output_type": "execute_result"
        }
      ],
      "source": [
        "# Transpose mat1\n",
        "mat1.T"
      ]
    },
    {
      "cell_type": "code",
      "execution_count": null,
      "id": "f7999b5a",
      "metadata": {
        "id": "f7999b5a",
        "outputId": "da246467-d8e5-465c-88c1-70eb87cf4437"
      },
      "outputs": [
        {
          "data": {
            "text/plain": [
              "((5, 3), (3, 5))"
            ]
          },
          "execution_count": 113,
          "metadata": {},
          "output_type": "execute_result"
        }
      ],
      "source": [
        "mat1.shape, mat2.T.shape"
      ]
    },
    {
      "cell_type": "code",
      "execution_count": null,
      "id": "e7263a6e",
      "metadata": {
        "id": "e7263a6e",
        "outputId": "e2ec7081-8551-4f30-9f7f-464e068a7409"
      },
      "outputs": [
        {
          "data": {
            "text/plain": [
              "array([[ 51,  55,  72,  20,  15],\n",
              "       [130,  76, 164,  33,  44],\n",
              "       [ 67,  39,  85,  27,  34],\n",
              "       [115,  69, 146,  37,  47],\n",
              "       [111,  77, 145,  56,  64]])"
            ]
          },
          "execution_count": 114,
          "metadata": {},
          "output_type": "execute_result"
        }
      ],
      "source": [
        "mat3 = np.dot(mat1, mat2.T)\n",
        "mat3"
      ]
    },
    {
      "cell_type": "code",
      "execution_count": null,
      "id": "fec6a9ed",
      "metadata": {
        "id": "fec6a9ed",
        "outputId": "62a87db2-c150-40e0-f660-36a781cf0954"
      },
      "outputs": [
        {
          "data": {
            "text/plain": [
              "(5, 5)"
            ]
          },
          "execution_count": 115,
          "metadata": {},
          "output_type": "execute_result"
        }
      ],
      "source": [
        "mat3.shape"
      ]
    },
    {
      "cell_type": "markdown",
      "id": "206e1552",
      "metadata": {
        "id": "206e1552"
      },
      "source": [
        "# Dot product exmaple (nut butter sales)"
      ]
    },
    {
      "cell_type": "code",
      "execution_count": null,
      "id": "b9623ddd",
      "metadata": {
        "id": "b9623ddd",
        "outputId": "eec75745-4ff2-4b47-ab7a-b81409604912"
      },
      "outputs": [
        {
          "data": {
            "text/plain": [
              "array([[12, 15,  0],\n",
              "       [ 3,  3,  7],\n",
              "       [ 9, 19, 18],\n",
              "       [ 4,  6, 12],\n",
              "       [ 1,  6,  7]])"
            ]
          },
          "execution_count": 2,
          "metadata": {},
          "output_type": "execute_result"
        }
      ],
      "source": [
        "np.random.seed(0)\n",
        "#number of total jar sold\n",
        "sales_amount = np.random.randint(20,size=(5,3))\n",
        "sales_amount"
      ]
    },
    {
      "cell_type": "code",
      "execution_count": null,
      "id": "9ba909e0",
      "metadata": {
        "id": "9ba909e0",
        "outputId": "b6807322-8c67-4d74-e5bf-079ed44f1d4e"
      },
      "outputs": [
        {
          "data": {
            "text/html": [
              "<div>\n",
              "<style scoped>\n",
              "    .dataframe tbody tr th:only-of-type {\n",
              "        vertical-align: middle;\n",
              "    }\n",
              "\n",
              "    .dataframe tbody tr th {\n",
              "        vertical-align: top;\n",
              "    }\n",
              "\n",
              "    .dataframe thead th {\n",
              "        text-align: right;\n",
              "    }\n",
              "</style>\n",
              "<table border=\"1\" class=\"dataframe\">\n",
              "  <thead>\n",
              "    <tr style=\"text-align: right;\">\n",
              "      <th></th>\n",
              "      <th>Almond butter</th>\n",
              "      <th>Peanut butter</th>\n",
              "      <th>Cashew butter</th>\n",
              "    </tr>\n",
              "  </thead>\n",
              "  <tbody>\n",
              "    <tr>\n",
              "      <th>Mon</th>\n",
              "      <td>12</td>\n",
              "      <td>15</td>\n",
              "      <td>0</td>\n",
              "    </tr>\n",
              "    <tr>\n",
              "      <th>Thu</th>\n",
              "      <td>3</td>\n",
              "      <td>3</td>\n",
              "      <td>7</td>\n",
              "    </tr>\n",
              "    <tr>\n",
              "      <th>Wed</th>\n",
              "      <td>9</td>\n",
              "      <td>19</td>\n",
              "      <td>18</td>\n",
              "    </tr>\n",
              "    <tr>\n",
              "      <th>Thur</th>\n",
              "      <td>4</td>\n",
              "      <td>6</td>\n",
              "      <td>12</td>\n",
              "    </tr>\n",
              "    <tr>\n",
              "      <th>Fri</th>\n",
              "      <td>1</td>\n",
              "      <td>6</td>\n",
              "      <td>7</td>\n",
              "    </tr>\n",
              "  </tbody>\n",
              "</table>\n",
              "</div>"
            ],
            "text/plain": [
              "      Almond butter  Peanut butter  Cashew butter\n",
              "Mon              12             15              0\n",
              "Thu               3              3              7\n",
              "Wed               9             19             18\n",
              "Thur              4              6             12\n",
              "Fri               1              6              7"
            ]
          },
          "execution_count": 4,
          "metadata": {},
          "output_type": "execute_result"
        }
      ],
      "source": [
        "#create data frame sales amount\n",
        "weekly_sales = pd.DataFrame(sales_amount,index=['Mon','Thu','Wed','Thur','Fri'],columns=['Almond butter','Peanut butter','Cashew butter'])\n",
        "weekly_sales"
      ]
    },
    {
      "cell_type": "code",
      "execution_count": null,
      "id": "53811af7",
      "metadata": {
        "id": "53811af7",
        "outputId": "3ea61a1d-ca49-419c-fb36-547dedade583"
      },
      "outputs": [
        {
          "data": {
            "text/plain": [
              "array([10,  8, 12])"
            ]
          },
          "execution_count": 7,
          "metadata": {},
          "output_type": "execute_result"
        }
      ],
      "source": [
        "#create prices\n",
        "prices = np.array([10,8,12])\n",
        "prices"
      ]
    },
    {
      "cell_type": "code",
      "execution_count": null,
      "id": "0e7968fd",
      "metadata": {
        "id": "0e7968fd",
        "outputId": "5d282b74-082b-4ddc-eaa0-346ff01190c5"
      },
      "outputs": [
        {
          "data": {
            "text/plain": [
              "(3,)"
            ]
          },
          "execution_count": 8,
          "metadata": {},
          "output_type": "execute_result"
        }
      ],
      "source": [
        "np.shape(prices)"
      ]
    },
    {
      "cell_type": "code",
      "execution_count": null,
      "id": "5849fb39",
      "metadata": {
        "id": "5849fb39",
        "outputId": "4b959778-143d-4cc7-f7f7-cbd32196fd70"
      },
      "outputs": [
        {
          "data": {
            "text/html": [
              "<div>\n",
              "<style scoped>\n",
              "    .dataframe tbody tr th:only-of-type {\n",
              "        vertical-align: middle;\n",
              "    }\n",
              "\n",
              "    .dataframe tbody tr th {\n",
              "        vertical-align: top;\n",
              "    }\n",
              "\n",
              "    .dataframe thead th {\n",
              "        text-align: right;\n",
              "    }\n",
              "</style>\n",
              "<table border=\"1\" class=\"dataframe\">\n",
              "  <thead>\n",
              "    <tr style=\"text-align: right;\">\n",
              "      <th></th>\n",
              "      <th>Almond butter</th>\n",
              "      <th>Peanut butter</th>\n",
              "      <th>Cashew butter</th>\n",
              "    </tr>\n",
              "  </thead>\n",
              "  <tbody>\n",
              "    <tr>\n",
              "      <th>price</th>\n",
              "      <td>10</td>\n",
              "      <td>8</td>\n",
              "      <td>12</td>\n",
              "    </tr>\n",
              "  </tbody>\n",
              "</table>\n",
              "</div>"
            ],
            "text/plain": [
              "       Almond butter  Peanut butter  Cashew butter\n",
              "price             10              8             12"
            ]
          },
          "execution_count": 9,
          "metadata": {},
          "output_type": "execute_result"
        }
      ],
      "source": [
        "#create butter prices data frame\n",
        "butter_prices = pd.DataFrame(prices.reshape(1,3),index=['price'],columns=['Almond butter','Peanut butter','Cashew butter'])\n",
        "butter_prices"
      ]
    },
    {
      "cell_type": "code",
      "execution_count": null,
      "id": "09f1c22e",
      "metadata": {
        "id": "09f1c22e",
        "outputId": "baa0d5dc-86ad-44fe-9ab8-5f41e8d5850b"
      },
      "outputs": [
        {
          "data": {
            "text/plain": [
              "array([240, 138, 458, 232, 142])"
            ]
          },
          "execution_count": 11,
          "metadata": {},
          "output_type": "execute_result"
        }
      ],
      "source": [
        "#shape is not alignid lets transpose\n",
        "total_sales = prices.dot(sales_amount.T)\n",
        "total_sales"
      ]
    },
    {
      "cell_type": "code",
      "execution_count": null,
      "id": "42da83af",
      "metadata": {
        "id": "42da83af"
      },
      "outputs": [],
      "source": [
        "#create daily sales"
      ]
    },
    {
      "cell_type": "code",
      "execution_count": null,
      "id": "5d8a099c",
      "metadata": {
        "id": "5d8a099c",
        "outputId": "a58db32e-70cd-4138-e8cc-8d68f1af2427"
      },
      "outputs": [
        {
          "data": {
            "text/html": [
              "<div>\n",
              "<style scoped>\n",
              "    .dataframe tbody tr th:only-of-type {\n",
              "        vertical-align: middle;\n",
              "    }\n",
              "\n",
              "    .dataframe tbody tr th {\n",
              "        vertical-align: top;\n",
              "    }\n",
              "\n",
              "    .dataframe thead th {\n",
              "        text-align: right;\n",
              "    }\n",
              "</style>\n",
              "<table border=\"1\" class=\"dataframe\">\n",
              "  <thead>\n",
              "    <tr style=\"text-align: right;\">\n",
              "      <th></th>\n",
              "      <th>Almond butter</th>\n",
              "      <th>Peanut butter</th>\n",
              "      <th>Cashew butter</th>\n",
              "    </tr>\n",
              "  </thead>\n",
              "  <tbody>\n",
              "    <tr>\n",
              "      <th>price</th>\n",
              "      <td>10</td>\n",
              "      <td>8</td>\n",
              "      <td>12</td>\n",
              "    </tr>\n",
              "  </tbody>\n",
              "</table>\n",
              "</div>"
            ],
            "text/plain": [
              "       Almond butter  Peanut butter  Cashew butter\n",
              "price             10              8             12"
            ]
          },
          "execution_count": 12,
          "metadata": {},
          "output_type": "execute_result"
        }
      ],
      "source": [
        "butter_prices"
      ]
    },
    {
      "cell_type": "code",
      "execution_count": null,
      "id": "9571cda4",
      "metadata": {
        "id": "9571cda4",
        "outputId": "c533fda9-7fad-4444-8686-aa4d5ffc7c1d"
      },
      "outputs": [
        {
          "data": {
            "text/html": [
              "<div>\n",
              "<style scoped>\n",
              "    .dataframe tbody tr th:only-of-type {\n",
              "        vertical-align: middle;\n",
              "    }\n",
              "\n",
              "    .dataframe tbody tr th {\n",
              "        vertical-align: top;\n",
              "    }\n",
              "\n",
              "    .dataframe thead th {\n",
              "        text-align: right;\n",
              "    }\n",
              "</style>\n",
              "<table border=\"1\" class=\"dataframe\">\n",
              "  <thead>\n",
              "    <tr style=\"text-align: right;\">\n",
              "      <th></th>\n",
              "      <th>Almond butter</th>\n",
              "      <th>Peanut butter</th>\n",
              "      <th>Cashew butter</th>\n",
              "    </tr>\n",
              "  </thead>\n",
              "  <tbody>\n",
              "    <tr>\n",
              "      <th>Mon</th>\n",
              "      <td>12</td>\n",
              "      <td>15</td>\n",
              "      <td>0</td>\n",
              "    </tr>\n",
              "    <tr>\n",
              "      <th>Thu</th>\n",
              "      <td>3</td>\n",
              "      <td>3</td>\n",
              "      <td>7</td>\n",
              "    </tr>\n",
              "    <tr>\n",
              "      <th>Wed</th>\n",
              "      <td>9</td>\n",
              "      <td>19</td>\n",
              "      <td>18</td>\n",
              "    </tr>\n",
              "    <tr>\n",
              "      <th>Thur</th>\n",
              "      <td>4</td>\n",
              "      <td>6</td>\n",
              "      <td>12</td>\n",
              "    </tr>\n",
              "    <tr>\n",
              "      <th>Fri</th>\n",
              "      <td>1</td>\n",
              "      <td>6</td>\n",
              "      <td>7</td>\n",
              "    </tr>\n",
              "  </tbody>\n",
              "</table>\n",
              "</div>"
            ],
            "text/plain": [
              "      Almond butter  Peanut butter  Cashew butter\n",
              "Mon              12             15              0\n",
              "Thu               3              3              7\n",
              "Wed               9             19             18\n",
              "Thur              4              6             12\n",
              "Fri               1              6              7"
            ]
          },
          "execution_count": 13,
          "metadata": {},
          "output_type": "execute_result"
        }
      ],
      "source": [
        "weekly_sales"
      ]
    },
    {
      "cell_type": "code",
      "execution_count": null,
      "id": "ed9ed10f",
      "metadata": {
        "id": "ed9ed10f",
        "outputId": "00dbf354-ffd4-446a-e7d3-f4c5c2c7bbe5"
      },
      "outputs": [
        {
          "data": {
            "text/plain": [
              "((1, 3), (5, 3))"
            ]
          },
          "execution_count": 14,
          "metadata": {},
          "output_type": "execute_result"
        }
      ],
      "source": [
        "butter_prices.shape,weekly_sales.shape"
      ]
    },
    {
      "cell_type": "code",
      "execution_count": null,
      "id": "8a88470a",
      "metadata": {
        "id": "8a88470a",
        "outputId": "4fae1450-cad2-4315-d044-7b1a5d9dbc70"
      },
      "outputs": [
        {
          "data": {
            "text/html": [
              "<div>\n",
              "<style scoped>\n",
              "    .dataframe tbody tr th:only-of-type {\n",
              "        vertical-align: middle;\n",
              "    }\n",
              "\n",
              "    .dataframe tbody tr th {\n",
              "        vertical-align: top;\n",
              "    }\n",
              "\n",
              "    .dataframe thead th {\n",
              "        text-align: right;\n",
              "    }\n",
              "</style>\n",
              "<table border=\"1\" class=\"dataframe\">\n",
              "  <thead>\n",
              "    <tr style=\"text-align: right;\">\n",
              "      <th></th>\n",
              "      <th>Mon</th>\n",
              "      <th>Thu</th>\n",
              "      <th>Wed</th>\n",
              "      <th>Thur</th>\n",
              "      <th>Fri</th>\n",
              "    </tr>\n",
              "  </thead>\n",
              "  <tbody>\n",
              "    <tr>\n",
              "      <th>price</th>\n",
              "      <td>240</td>\n",
              "      <td>138</td>\n",
              "      <td>458</td>\n",
              "      <td>232</td>\n",
              "      <td>142</td>\n",
              "    </tr>\n",
              "  </tbody>\n",
              "</table>\n",
              "</div>"
            ],
            "text/plain": [
              "       Mon  Thu  Wed  Thur  Fri\n",
              "price  240  138  458   232  142"
            ]
          },
          "execution_count": 15,
          "metadata": {},
          "output_type": "execute_result"
        }
      ],
      "source": [
        "daily_sales = butter_prices.dot(weekly_sales.T)\n",
        "daily_sales"
      ]
    },
    {
      "cell_type": "code",
      "execution_count": null,
      "id": "b429dbbd",
      "metadata": {
        "id": "b429dbbd",
        "outputId": "89693ce4-53f7-4148-d985-7cc5eae39894"
      },
      "outputs": [
        {
          "ename": "ValueError",
          "evalue": "Wrong number of items passed 5, placement implies 1",
          "output_type": "error",
          "traceback": [
            "\u001b[1;31m---------------------------------------------------------------------------\u001b[0m",
            "\u001b[1;31mKeyError\u001b[0m                                  Traceback (most recent call last)",
            "\u001b[1;32mG:\\python\\lib\\site-packages\\pandas\\core\\indexes\\base.py\u001b[0m in \u001b[0;36mget_loc\u001b[1;34m(self, key, method, tolerance)\u001b[0m\n\u001b[0;32m   3360\u001b[0m             \u001b[1;32mtry\u001b[0m\u001b[1;33m:\u001b[0m\u001b[1;33m\u001b[0m\u001b[1;33m\u001b[0m\u001b[0m\n\u001b[1;32m-> 3361\u001b[1;33m                 \u001b[1;32mreturn\u001b[0m \u001b[0mself\u001b[0m\u001b[1;33m.\u001b[0m\u001b[0m_engine\u001b[0m\u001b[1;33m.\u001b[0m\u001b[0mget_loc\u001b[0m\u001b[1;33m(\u001b[0m\u001b[0mcasted_key\u001b[0m\u001b[1;33m)\u001b[0m\u001b[1;33m\u001b[0m\u001b[1;33m\u001b[0m\u001b[0m\n\u001b[0m\u001b[0;32m   3362\u001b[0m             \u001b[1;32mexcept\u001b[0m \u001b[0mKeyError\u001b[0m \u001b[1;32mas\u001b[0m \u001b[0merr\u001b[0m\u001b[1;33m:\u001b[0m\u001b[1;33m\u001b[0m\u001b[1;33m\u001b[0m\u001b[0m\n",
            "\u001b[1;32mG:\\python\\lib\\site-packages\\pandas\\_libs\\index.pyx\u001b[0m in \u001b[0;36mpandas._libs.index.IndexEngine.get_loc\u001b[1;34m()\u001b[0m\n",
            "\u001b[1;32mG:\\python\\lib\\site-packages\\pandas\\_libs\\index.pyx\u001b[0m in \u001b[0;36mpandas._libs.index.IndexEngine.get_loc\u001b[1;34m()\u001b[0m\n",
            "\u001b[1;32mpandas\\_libs\\hashtable_class_helper.pxi\u001b[0m in \u001b[0;36mpandas._libs.hashtable.PyObjectHashTable.get_item\u001b[1;34m()\u001b[0m\n",
            "\u001b[1;32mpandas\\_libs\\hashtable_class_helper.pxi\u001b[0m in \u001b[0;36mpandas._libs.hashtable.PyObjectHashTable.get_item\u001b[1;34m()\u001b[0m\n",
            "\u001b[1;31mKeyError\u001b[0m: 'Total ($)'",
            "\nThe above exception was the direct cause of the following exception:\n",
            "\u001b[1;31mKeyError\u001b[0m                                  Traceback (most recent call last)",
            "\u001b[1;32mG:\\python\\lib\\site-packages\\pandas\\core\\frame.py\u001b[0m in \u001b[0;36m_set_item_mgr\u001b[1;34m(self, key, value)\u001b[0m\n\u001b[0;32m   3750\u001b[0m         \u001b[1;32mtry\u001b[0m\u001b[1;33m:\u001b[0m\u001b[1;33m\u001b[0m\u001b[1;33m\u001b[0m\u001b[0m\n\u001b[1;32m-> 3751\u001b[1;33m             \u001b[0mloc\u001b[0m \u001b[1;33m=\u001b[0m \u001b[0mself\u001b[0m\u001b[1;33m.\u001b[0m\u001b[0m_info_axis\u001b[0m\u001b[1;33m.\u001b[0m\u001b[0mget_loc\u001b[0m\u001b[1;33m(\u001b[0m\u001b[0mkey\u001b[0m\u001b[1;33m)\u001b[0m\u001b[1;33m\u001b[0m\u001b[1;33m\u001b[0m\u001b[0m\n\u001b[0m\u001b[0;32m   3752\u001b[0m         \u001b[1;32mexcept\u001b[0m \u001b[0mKeyError\u001b[0m\u001b[1;33m:\u001b[0m\u001b[1;33m\u001b[0m\u001b[1;33m\u001b[0m\u001b[0m\n",
            "\u001b[1;32mG:\\python\\lib\\site-packages\\pandas\\core\\indexes\\base.py\u001b[0m in \u001b[0;36mget_loc\u001b[1;34m(self, key, method, tolerance)\u001b[0m\n\u001b[0;32m   3362\u001b[0m             \u001b[1;32mexcept\u001b[0m \u001b[0mKeyError\u001b[0m \u001b[1;32mas\u001b[0m \u001b[0merr\u001b[0m\u001b[1;33m:\u001b[0m\u001b[1;33m\u001b[0m\u001b[1;33m\u001b[0m\u001b[0m\n\u001b[1;32m-> 3363\u001b[1;33m                 \u001b[1;32mraise\u001b[0m \u001b[0mKeyError\u001b[0m\u001b[1;33m(\u001b[0m\u001b[0mkey\u001b[0m\u001b[1;33m)\u001b[0m \u001b[1;32mfrom\u001b[0m \u001b[0merr\u001b[0m\u001b[1;33m\u001b[0m\u001b[1;33m\u001b[0m\u001b[0m\n\u001b[0m\u001b[0;32m   3364\u001b[0m \u001b[1;33m\u001b[0m\u001b[0m\n",
            "\u001b[1;31mKeyError\u001b[0m: 'Total ($)'",
            "\nDuring handling of the above exception, another exception occurred:\n",
            "\u001b[1;31mValueError\u001b[0m                                Traceback (most recent call last)",
            "\u001b[1;32mC:\\Users\\GAURAV~1\\AppData\\Local\\Temp/ipykernel_16004/1046204096.py\u001b[0m in \u001b[0;36m<module>\u001b[1;34m\u001b[0m\n\u001b[1;32m----> 1\u001b[1;33m \u001b[0mweekly_sales\u001b[0m\u001b[1;33m[\u001b[0m\u001b[1;34m'Total ($)'\u001b[0m\u001b[1;33m]\u001b[0m\u001b[1;33m=\u001b[0m\u001b[0mdaily_sales\u001b[0m\u001b[1;33m\u001b[0m\u001b[1;33m\u001b[0m\u001b[0m\n\u001b[0m\u001b[0;32m      2\u001b[0m \u001b[0mweekly_sales\u001b[0m\u001b[1;33m\u001b[0m\u001b[1;33m\u001b[0m\u001b[0m\n",
            "\u001b[1;32mG:\\python\\lib\\site-packages\\pandas\\core\\frame.py\u001b[0m in \u001b[0;36m__setitem__\u001b[1;34m(self, key, value)\u001b[0m\n\u001b[0;32m   3600\u001b[0m             \u001b[0mself\u001b[0m\u001b[1;33m.\u001b[0m\u001b[0m_setitem_array\u001b[0m\u001b[1;33m(\u001b[0m\u001b[0mkey\u001b[0m\u001b[1;33m,\u001b[0m \u001b[0mvalue\u001b[0m\u001b[1;33m)\u001b[0m\u001b[1;33m\u001b[0m\u001b[1;33m\u001b[0m\u001b[0m\n\u001b[0;32m   3601\u001b[0m         \u001b[1;32melif\u001b[0m \u001b[0misinstance\u001b[0m\u001b[1;33m(\u001b[0m\u001b[0mvalue\u001b[0m\u001b[1;33m,\u001b[0m \u001b[0mDataFrame\u001b[0m\u001b[1;33m)\u001b[0m\u001b[1;33m:\u001b[0m\u001b[1;33m\u001b[0m\u001b[1;33m\u001b[0m\u001b[0m\n\u001b[1;32m-> 3602\u001b[1;33m             \u001b[0mself\u001b[0m\u001b[1;33m.\u001b[0m\u001b[0m_set_item_frame_value\u001b[0m\u001b[1;33m(\u001b[0m\u001b[0mkey\u001b[0m\u001b[1;33m,\u001b[0m \u001b[0mvalue\u001b[0m\u001b[1;33m)\u001b[0m\u001b[1;33m\u001b[0m\u001b[1;33m\u001b[0m\u001b[0m\n\u001b[0m\u001b[0;32m   3603\u001b[0m         elif (\n\u001b[0;32m   3604\u001b[0m             \u001b[0mis_list_like\u001b[0m\u001b[1;33m(\u001b[0m\u001b[0mvalue\u001b[0m\u001b[1;33m)\u001b[0m\u001b[1;33m\u001b[0m\u001b[1;33m\u001b[0m\u001b[0m\n",
            "\u001b[1;32mG:\\python\\lib\\site-packages\\pandas\\core\\frame.py\u001b[0m in \u001b[0;36m_set_item_frame_value\u001b[1;34m(self, key, value)\u001b[0m\n\u001b[0;32m   3740\u001b[0m         \u001b[1;31m# now align rows\u001b[0m\u001b[1;33m\u001b[0m\u001b[1;33m\u001b[0m\u001b[0m\n\u001b[0;32m   3741\u001b[0m         \u001b[0marraylike\u001b[0m \u001b[1;33m=\u001b[0m \u001b[0m_reindex_for_setitem\u001b[0m\u001b[1;33m(\u001b[0m\u001b[0mvalue\u001b[0m\u001b[1;33m,\u001b[0m \u001b[0mself\u001b[0m\u001b[1;33m.\u001b[0m\u001b[0mindex\u001b[0m\u001b[1;33m)\u001b[0m\u001b[1;33m\u001b[0m\u001b[1;33m\u001b[0m\u001b[0m\n\u001b[1;32m-> 3742\u001b[1;33m         \u001b[0mself\u001b[0m\u001b[1;33m.\u001b[0m\u001b[0m_set_item_mgr\u001b[0m\u001b[1;33m(\u001b[0m\u001b[0mkey\u001b[0m\u001b[1;33m,\u001b[0m \u001b[0marraylike\u001b[0m\u001b[1;33m)\u001b[0m\u001b[1;33m\u001b[0m\u001b[1;33m\u001b[0m\u001b[0m\n\u001b[0m\u001b[0;32m   3743\u001b[0m \u001b[1;33m\u001b[0m\u001b[0m\n\u001b[0;32m   3744\u001b[0m     \u001b[1;32mdef\u001b[0m \u001b[0m_iset_item_mgr\u001b[0m\u001b[1;33m(\u001b[0m\u001b[0mself\u001b[0m\u001b[1;33m,\u001b[0m \u001b[0mloc\u001b[0m\u001b[1;33m:\u001b[0m \u001b[0mint\u001b[0m \u001b[1;33m|\u001b[0m \u001b[0mslice\u001b[0m \u001b[1;33m|\u001b[0m \u001b[0mnp\u001b[0m\u001b[1;33m.\u001b[0m\u001b[0mndarray\u001b[0m\u001b[1;33m,\u001b[0m \u001b[0mvalue\u001b[0m\u001b[1;33m)\u001b[0m \u001b[1;33m->\u001b[0m \u001b[1;32mNone\u001b[0m\u001b[1;33m:\u001b[0m\u001b[1;33m\u001b[0m\u001b[1;33m\u001b[0m\u001b[0m\n",
            "\u001b[1;32mG:\\python\\lib\\site-packages\\pandas\\core\\frame.py\u001b[0m in \u001b[0;36m_set_item_mgr\u001b[1;34m(self, key, value)\u001b[0m\n\u001b[0;32m   3752\u001b[0m         \u001b[1;32mexcept\u001b[0m \u001b[0mKeyError\u001b[0m\u001b[1;33m:\u001b[0m\u001b[1;33m\u001b[0m\u001b[1;33m\u001b[0m\u001b[0m\n\u001b[0;32m   3753\u001b[0m             \u001b[1;31m# This item wasn't present, just insert at end\u001b[0m\u001b[1;33m\u001b[0m\u001b[1;33m\u001b[0m\u001b[0m\n\u001b[1;32m-> 3754\u001b[1;33m             \u001b[0mself\u001b[0m\u001b[1;33m.\u001b[0m\u001b[0m_mgr\u001b[0m\u001b[1;33m.\u001b[0m\u001b[0minsert\u001b[0m\u001b[1;33m(\u001b[0m\u001b[0mlen\u001b[0m\u001b[1;33m(\u001b[0m\u001b[0mself\u001b[0m\u001b[1;33m.\u001b[0m\u001b[0m_info_axis\u001b[0m\u001b[1;33m)\u001b[0m\u001b[1;33m,\u001b[0m \u001b[0mkey\u001b[0m\u001b[1;33m,\u001b[0m \u001b[0mvalue\u001b[0m\u001b[1;33m)\u001b[0m\u001b[1;33m\u001b[0m\u001b[1;33m\u001b[0m\u001b[0m\n\u001b[0m\u001b[0;32m   3755\u001b[0m         \u001b[1;32melse\u001b[0m\u001b[1;33m:\u001b[0m\u001b[1;33m\u001b[0m\u001b[1;33m\u001b[0m\u001b[0m\n\u001b[0;32m   3756\u001b[0m             \u001b[0mself\u001b[0m\u001b[1;33m.\u001b[0m\u001b[0m_iset_item_mgr\u001b[0m\u001b[1;33m(\u001b[0m\u001b[0mloc\u001b[0m\u001b[1;33m,\u001b[0m \u001b[0mvalue\u001b[0m\u001b[1;33m)\u001b[0m\u001b[1;33m\u001b[0m\u001b[1;33m\u001b[0m\u001b[0m\n",
            "\u001b[1;32mG:\\python\\lib\\site-packages\\pandas\\core\\internals\\managers.py\u001b[0m in \u001b[0;36minsert\u001b[1;34m(self, loc, item, value)\u001b[0m\n\u001b[0;32m   1160\u001b[0m             \u001b[0mvalue\u001b[0m \u001b[1;33m=\u001b[0m \u001b[0mensure_block_shape\u001b[0m\u001b[1;33m(\u001b[0m\u001b[0mvalue\u001b[0m\u001b[1;33m,\u001b[0m \u001b[0mndim\u001b[0m\u001b[1;33m=\u001b[0m\u001b[0mself\u001b[0m\u001b[1;33m.\u001b[0m\u001b[0mndim\u001b[0m\u001b[1;33m)\u001b[0m\u001b[1;33m\u001b[0m\u001b[1;33m\u001b[0m\u001b[0m\n\u001b[0;32m   1161\u001b[0m \u001b[1;33m\u001b[0m\u001b[0m\n\u001b[1;32m-> 1162\u001b[1;33m         \u001b[0mblock\u001b[0m \u001b[1;33m=\u001b[0m \u001b[0mnew_block\u001b[0m\u001b[1;33m(\u001b[0m\u001b[0mvalues\u001b[0m\u001b[1;33m=\u001b[0m\u001b[0mvalue\u001b[0m\u001b[1;33m,\u001b[0m \u001b[0mndim\u001b[0m\u001b[1;33m=\u001b[0m\u001b[0mself\u001b[0m\u001b[1;33m.\u001b[0m\u001b[0mndim\u001b[0m\u001b[1;33m,\u001b[0m \u001b[0mplacement\u001b[0m\u001b[1;33m=\u001b[0m\u001b[0mslice\u001b[0m\u001b[1;33m(\u001b[0m\u001b[0mloc\u001b[0m\u001b[1;33m,\u001b[0m \u001b[0mloc\u001b[0m \u001b[1;33m+\u001b[0m \u001b[1;36m1\u001b[0m\u001b[1;33m)\u001b[0m\u001b[1;33m)\u001b[0m\u001b[1;33m\u001b[0m\u001b[1;33m\u001b[0m\u001b[0m\n\u001b[0m\u001b[0;32m   1163\u001b[0m \u001b[1;33m\u001b[0m\u001b[0m\n\u001b[0;32m   1164\u001b[0m         \u001b[1;32mfor\u001b[0m \u001b[0mblkno\u001b[0m\u001b[1;33m,\u001b[0m \u001b[0mcount\u001b[0m \u001b[1;32min\u001b[0m \u001b[0m_fast_count_smallints\u001b[0m\u001b[1;33m(\u001b[0m\u001b[0mself\u001b[0m\u001b[1;33m.\u001b[0m\u001b[0mblknos\u001b[0m\u001b[1;33m[\u001b[0m\u001b[0mloc\u001b[0m\u001b[1;33m:\u001b[0m\u001b[1;33m]\u001b[0m\u001b[1;33m)\u001b[0m\u001b[1;33m:\u001b[0m\u001b[1;33m\u001b[0m\u001b[1;33m\u001b[0m\u001b[0m\n",
            "\u001b[1;32mG:\\python\\lib\\site-packages\\pandas\\core\\internals\\blocks.py\u001b[0m in \u001b[0;36mnew_block\u001b[1;34m(values, placement, ndim, klass)\u001b[0m\n\u001b[0;32m   1935\u001b[0m \u001b[1;33m\u001b[0m\u001b[0m\n\u001b[0;32m   1936\u001b[0m     \u001b[0mvalues\u001b[0m\u001b[1;33m,\u001b[0m \u001b[0m_\u001b[0m \u001b[1;33m=\u001b[0m \u001b[0mextract_pandas_array\u001b[0m\u001b[1;33m(\u001b[0m\u001b[0mvalues\u001b[0m\u001b[1;33m,\u001b[0m \u001b[1;32mNone\u001b[0m\u001b[1;33m,\u001b[0m \u001b[0mndim\u001b[0m\u001b[1;33m)\u001b[0m\u001b[1;33m\u001b[0m\u001b[1;33m\u001b[0m\u001b[0m\n\u001b[1;32m-> 1937\u001b[1;33m     \u001b[0mcheck_ndim\u001b[0m\u001b[1;33m(\u001b[0m\u001b[0mvalues\u001b[0m\u001b[1;33m,\u001b[0m \u001b[0mplacement\u001b[0m\u001b[1;33m,\u001b[0m \u001b[0mndim\u001b[0m\u001b[1;33m)\u001b[0m\u001b[1;33m\u001b[0m\u001b[1;33m\u001b[0m\u001b[0m\n\u001b[0m\u001b[0;32m   1938\u001b[0m \u001b[1;33m\u001b[0m\u001b[0m\n\u001b[0;32m   1939\u001b[0m     \u001b[1;32mif\u001b[0m \u001b[0mklass\u001b[0m \u001b[1;32mis\u001b[0m \u001b[1;32mNone\u001b[0m\u001b[1;33m:\u001b[0m\u001b[1;33m\u001b[0m\u001b[1;33m\u001b[0m\u001b[0m\n",
            "\u001b[1;32mG:\\python\\lib\\site-packages\\pandas\\core\\internals\\blocks.py\u001b[0m in \u001b[0;36mcheck_ndim\u001b[1;34m(values, placement, ndim)\u001b[0m\n\u001b[0;32m   1977\u001b[0m             )\n\u001b[0;32m   1978\u001b[0m         \u001b[1;32mif\u001b[0m \u001b[0mlen\u001b[0m\u001b[1;33m(\u001b[0m\u001b[0mplacement\u001b[0m\u001b[1;33m)\u001b[0m \u001b[1;33m!=\u001b[0m \u001b[0mlen\u001b[0m\u001b[1;33m(\u001b[0m\u001b[0mvalues\u001b[0m\u001b[1;33m)\u001b[0m\u001b[1;33m:\u001b[0m\u001b[1;33m\u001b[0m\u001b[1;33m\u001b[0m\u001b[0m\n\u001b[1;32m-> 1979\u001b[1;33m             raise ValueError(\n\u001b[0m\u001b[0;32m   1980\u001b[0m                 \u001b[1;34mf\"Wrong number of items passed {len(values)}, \"\u001b[0m\u001b[1;33m\u001b[0m\u001b[1;33m\u001b[0m\u001b[0m\n\u001b[0;32m   1981\u001b[0m                 \u001b[1;34mf\"placement implies {len(placement)}\"\u001b[0m\u001b[1;33m\u001b[0m\u001b[1;33m\u001b[0m\u001b[0m\n",
            "\u001b[1;31mValueError\u001b[0m: Wrong number of items passed 5, placement implies 1"
          ]
        }
      ],
      "source": [
        "#does not work due to shape\n",
        "weekly_sales['Total ($)']=daily_sales\n",
        "weekly_sales"
      ]
    },
    {
      "cell_type": "code",
      "execution_count": null,
      "id": "21b46f16",
      "metadata": {
        "id": "21b46f16",
        "outputId": "3798c7f3-4551-4e58-dcac-ec6fb789a0a9"
      },
      "outputs": [
        {
          "data": {
            "text/html": [
              "<div>\n",
              "<style scoped>\n",
              "    .dataframe tbody tr th:only-of-type {\n",
              "        vertical-align: middle;\n",
              "    }\n",
              "\n",
              "    .dataframe tbody tr th {\n",
              "        vertical-align: top;\n",
              "    }\n",
              "\n",
              "    .dataframe thead th {\n",
              "        text-align: right;\n",
              "    }\n",
              "</style>\n",
              "<table border=\"1\" class=\"dataframe\">\n",
              "  <thead>\n",
              "    <tr style=\"text-align: right;\">\n",
              "      <th></th>\n",
              "      <th>Almond butter</th>\n",
              "      <th>Peanut butter</th>\n",
              "      <th>Cashew butter</th>\n",
              "      <th>Total ($)</th>\n",
              "    </tr>\n",
              "  </thead>\n",
              "  <tbody>\n",
              "    <tr>\n",
              "      <th>Mon</th>\n",
              "      <td>12</td>\n",
              "      <td>15</td>\n",
              "      <td>0</td>\n",
              "      <td>240</td>\n",
              "    </tr>\n",
              "    <tr>\n",
              "      <th>Thu</th>\n",
              "      <td>3</td>\n",
              "      <td>3</td>\n",
              "      <td>7</td>\n",
              "      <td>138</td>\n",
              "    </tr>\n",
              "    <tr>\n",
              "      <th>Wed</th>\n",
              "      <td>9</td>\n",
              "      <td>19</td>\n",
              "      <td>18</td>\n",
              "      <td>458</td>\n",
              "    </tr>\n",
              "    <tr>\n",
              "      <th>Thur</th>\n",
              "      <td>4</td>\n",
              "      <td>6</td>\n",
              "      <td>12</td>\n",
              "      <td>232</td>\n",
              "    </tr>\n",
              "    <tr>\n",
              "      <th>Fri</th>\n",
              "      <td>1</td>\n",
              "      <td>6</td>\n",
              "      <td>7</td>\n",
              "      <td>142</td>\n",
              "    </tr>\n",
              "  </tbody>\n",
              "</table>\n",
              "</div>"
            ],
            "text/plain": [
              "      Almond butter  Peanut butter  Cashew butter  Total ($)\n",
              "Mon              12             15              0        240\n",
              "Thu               3              3              7        138\n",
              "Wed               9             19             18        458\n",
              "Thur              4              6             12        232\n",
              "Fri               1              6              7        142"
            ]
          },
          "execution_count": 18,
          "metadata": {},
          "output_type": "execute_result"
        }
      ],
      "source": [
        "weekly_sales['Total ($)']=daily_sales.T\n",
        "weekly_sales"
      ]
    },
    {
      "cell_type": "markdown",
      "id": "0597f53c",
      "metadata": {
        "id": "0597f53c"
      },
      "source": [
        "# Comparison Operators\n"
      ]
    },
    {
      "cell_type": "code",
      "execution_count": null,
      "id": "5de8282c",
      "metadata": {
        "id": "5de8282c",
        "outputId": "5f81c193-8377-4ca1-b883-2bbccc659fa4"
      },
      "outputs": [
        {
          "ename": "NameError",
          "evalue": "name 'a1' is not defined",
          "output_type": "error",
          "traceback": [
            "\u001b[1;31m---------------------------------------------------------------------------\u001b[0m",
            "\u001b[1;31mNameError\u001b[0m                                 Traceback (most recent call last)",
            "\u001b[1;32mC:\\Users\\GAURAV~1\\AppData\\Local\\Temp/ipykernel_16004/2610128943.py\u001b[0m in \u001b[0;36m<module>\u001b[1;34m\u001b[0m\n\u001b[1;32m----> 1\u001b[1;33m \u001b[0ma1\u001b[0m\u001b[1;33m\u001b[0m\u001b[1;33m\u001b[0m\u001b[0m\n\u001b[0m",
            "\u001b[1;31mNameError\u001b[0m: name 'a1' is not defined"
          ]
        }
      ],
      "source": [
        "a1"
      ]
    },
    {
      "cell_type": "code",
      "execution_count": null,
      "id": "0b881c3c",
      "metadata": {
        "id": "0b881c3c",
        "outputId": "04427517-e303-4aac-a685-8291845de79b"
      },
      "outputs": [
        {
          "data": {
            "text/plain": [
              "array([1, 2, 3])"
            ]
          },
          "execution_count": 21,
          "metadata": {},
          "output_type": "execute_result"
        }
      ],
      "source": [
        "a1"
      ]
    },
    {
      "cell_type": "code",
      "execution_count": null,
      "id": "1436b0e5",
      "metadata": {
        "id": "1436b0e5",
        "outputId": "424ee9d6-1aad-4528-86ef-5a108414db14"
      },
      "outputs": [
        {
          "data": {
            "text/plain": [
              "array([[1. , 2. , 3.3],\n",
              "       [4. , 5. , 6.5]])"
            ]
          },
          "execution_count": 22,
          "metadata": {},
          "output_type": "execute_result"
        }
      ],
      "source": [
        "a2"
      ]
    },
    {
      "cell_type": "code",
      "execution_count": null,
      "id": "d58f6fbd",
      "metadata": {
        "id": "d58f6fbd",
        "outputId": "92c0b6f8-85b4-4538-df1b-59285bfa6789"
      },
      "outputs": [
        {
          "data": {
            "text/plain": [
              "array([[False, False, False],\n",
              "       [False, False, False]])"
            ]
          },
          "execution_count": 23,
          "metadata": {},
          "output_type": "execute_result"
        }
      ],
      "source": [
        "a1 > a2"
      ]
    },
    {
      "cell_type": "code",
      "execution_count": null,
      "id": "217f3177",
      "metadata": {
        "id": "217f3177",
        "outputId": "7db168b6-17aa-470c-ce57-974095efc611"
      },
      "outputs": [
        {
          "data": {
            "text/plain": [
              "array([[ True,  True, False],\n",
              "       [False, False, False]])"
            ]
          },
          "execution_count": 25,
          "metadata": {},
          "output_type": "execute_result"
        }
      ],
      "source": [
        "bool_array = a1>=a2\n",
        "bool_array"
      ]
    },
    {
      "cell_type": "code",
      "execution_count": null,
      "id": "9d1f42d4",
      "metadata": {
        "id": "9d1f42d4",
        "outputId": "f9dec7d9-2b40-444d-9265-56034d4434b3"
      },
      "outputs": [
        {
          "data": {
            "text/plain": [
              "(numpy.ndarray, dtype('bool'))"
            ]
          },
          "execution_count": 26,
          "metadata": {},
          "output_type": "execute_result"
        }
      ],
      "source": [
        "type(bool_array), bool_array.dtype"
      ]
    },
    {
      "cell_type": "code",
      "execution_count": null,
      "id": "26130d9d",
      "metadata": {
        "id": "26130d9d",
        "outputId": "b44bb9ab-17ba-4129-be7b-7bb7d9ae5fbb"
      },
      "outputs": [
        {
          "data": {
            "text/plain": [
              "array([False, False, False])"
            ]
          },
          "execution_count": 27,
          "metadata": {},
          "output_type": "execute_result"
        }
      ],
      "source": [
        "a1 > 5"
      ]
    },
    {
      "cell_type": "code",
      "execution_count": null,
      "id": "f9cfb8f2",
      "metadata": {
        "id": "f9cfb8f2",
        "outputId": "dcfc789d-951b-4286-ef5f-0b58f04ee272"
      },
      "outputs": [
        {
          "data": {
            "text/plain": [
              "array([ True,  True,  True])"
            ]
          },
          "execution_count": 28,
          "metadata": {},
          "output_type": "execute_result"
        }
      ],
      "source": [
        "a1 < 5"
      ]
    },
    {
      "cell_type": "code",
      "execution_count": null,
      "id": "defe801a",
      "metadata": {
        "id": "defe801a",
        "outputId": "2fd5c3f6-3d05-4c5c-ecee-f6b2beb3f24b"
      },
      "outputs": [
        {
          "data": {
            "text/plain": [
              "array([ True,  True,  True])"
            ]
          },
          "execution_count": 29,
          "metadata": {},
          "output_type": "execute_result"
        }
      ],
      "source": [
        "a1==a1"
      ]
    },
    {
      "cell_type": "code",
      "execution_count": null,
      "id": "4dd9addc",
      "metadata": {
        "id": "4dd9addc",
        "outputId": "ea35fae6-2dbd-444b-e375-32fc138fc40c"
      },
      "outputs": [
        {
          "data": {
            "text/plain": [
              "array([1, 2, 3])"
            ]
          },
          "execution_count": 30,
          "metadata": {},
          "output_type": "execute_result"
        }
      ],
      "source": [
        "a1"
      ]
    },
    {
      "cell_type": "code",
      "execution_count": null,
      "id": "d6d7b6ed",
      "metadata": {
        "id": "d6d7b6ed",
        "outputId": "20d2e3cd-31e6-48b6-ccf9-c5d671c05f0f"
      },
      "outputs": [
        {
          "data": {
            "text/plain": [
              "array([[1. , 2. , 3.3],\n",
              "       [4. , 5. , 6.5]])"
            ]
          },
          "execution_count": 31,
          "metadata": {},
          "output_type": "execute_result"
        }
      ],
      "source": [
        "a2"
      ]
    },
    {
      "cell_type": "code",
      "execution_count": null,
      "id": "5f59ffa3",
      "metadata": {
        "id": "5f59ffa3",
        "outputId": "10e4b42f-20b2-4922-c076-e15a20baf80d"
      },
      "outputs": [
        {
          "data": {
            "text/plain": [
              "array([[ True,  True, False],\n",
              "       [False, False, False]])"
            ]
          },
          "execution_count": 32,
          "metadata": {},
          "output_type": "execute_result"
        }
      ],
      "source": [
        "a1 == a2"
      ]
    },
    {
      "cell_type": "markdown",
      "id": "2a01e37d",
      "metadata": {
        "id": "2a01e37d"
      },
      "source": [
        "# Sorting"
      ]
    },
    {
      "cell_type": "code",
      "execution_count": null,
      "id": "5d574df7",
      "metadata": {
        "id": "5d574df7",
        "outputId": "c2fdb0f7-da75-4aef-b596-719bce7bfc63"
      },
      "outputs": [
        {
          "data": {
            "text/plain": [
              "array([[8, 1, 3, 3, 3],\n",
              "       [7, 0, 1, 9, 9],\n",
              "       [0, 4, 7, 3, 2]])"
            ]
          },
          "execution_count": 34,
          "metadata": {},
          "output_type": "execute_result"
        }
      ],
      "source": [
        "random_array = np.random.randint(10,size=(3,5))\n",
        "random_array"
      ]
    },
    {
      "cell_type": "code",
      "execution_count": null,
      "id": "e0acd044",
      "metadata": {
        "id": "e0acd044",
        "outputId": "68030f77-41ad-448d-cc4b-d04d107cbf87"
      },
      "outputs": [
        {
          "data": {
            "text/plain": [
              "(3, 5)"
            ]
          },
          "execution_count": 35,
          "metadata": {},
          "output_type": "execute_result"
        }
      ],
      "source": [
        "random_array.shape"
      ]
    },
    {
      "cell_type": "code",
      "execution_count": null,
      "id": "7c2f2426",
      "metadata": {
        "id": "7c2f2426",
        "outputId": "e981c41d-5925-47e5-c96d-29b6846570af"
      },
      "outputs": [
        {
          "data": {
            "text/plain": [
              "array([[1, 3, 3, 3, 8],\n",
              "       [0, 1, 7, 9, 9],\n",
              "       [0, 2, 3, 4, 7]])"
            ]
          },
          "execution_count": 36,
          "metadata": {},
          "output_type": "execute_result"
        }
      ],
      "source": [
        "np.sort(random_array)"
      ]
    },
    {
      "cell_type": "code",
      "execution_count": null,
      "id": "6e680bf0",
      "metadata": {
        "id": "6e680bf0",
        "outputId": "caf5ed97-e67b-4534-d6eb-36b6fe7ad1e5"
      },
      "outputs": [
        {
          "data": {
            "text/plain": [
              "array([[8, 1, 3, 3, 3],\n",
              "       [7, 0, 1, 9, 9],\n",
              "       [0, 4, 7, 3, 2]])"
            ]
          },
          "execution_count": 37,
          "metadata": {},
          "output_type": "execute_result"
        }
      ],
      "source": [
        "random_array"
      ]
    },
    {
      "cell_type": "code",
      "execution_count": null,
      "id": "afc49eb1",
      "metadata": {
        "id": "afc49eb1",
        "outputId": "5dec73c7-7e33-4075-9635-4749dad90754"
      },
      "outputs": [
        {
          "data": {
            "text/plain": [
              "array([[1, 2, 3, 4, 0],\n",
              "       [1, 2, 0, 3, 4],\n",
              "       [0, 4, 3, 1, 2]], dtype=int64)"
            ]
          },
          "execution_count": 38,
          "metadata": {},
          "output_type": "execute_result"
        }
      ],
      "source": [
        "np.argsort(random_array)"
      ]
    },
    {
      "cell_type": "code",
      "execution_count": null,
      "id": "b0867609",
      "metadata": {
        "id": "b0867609",
        "outputId": "3a74b16a-6fba-45e7-a029-a40324b38734"
      },
      "outputs": [
        {
          "data": {
            "text/plain": [
              "array([1, 2, 3])"
            ]
          },
          "execution_count": 39,
          "metadata": {},
          "output_type": "execute_result"
        }
      ],
      "source": [
        "a1"
      ]
    },
    {
      "cell_type": "code",
      "execution_count": null,
      "id": "2e46d15a",
      "metadata": {
        "id": "2e46d15a",
        "outputId": "1984a327-fd56-4d61-907f-ac215047ed6e"
      },
      "outputs": [
        {
          "data": {
            "text/plain": [
              "array([0, 1, 2], dtype=int64)"
            ]
          },
          "execution_count": 40,
          "metadata": {},
          "output_type": "execute_result"
        }
      ],
      "source": [
        "np.argsort(a1)"
      ]
    },
    {
      "cell_type": "code",
      "execution_count": null,
      "id": "d4855232",
      "metadata": {
        "id": "d4855232",
        "outputId": "f4bbaff7-89fe-4901-b2eb-7b85bdfaca0d"
      },
      "outputs": [
        {
          "data": {
            "text/plain": [
              "0"
            ]
          },
          "execution_count": 41,
          "metadata": {},
          "output_type": "execute_result"
        }
      ],
      "source": [
        "np.argmin(a1)"
      ]
    },
    {
      "cell_type": "code",
      "execution_count": null,
      "id": "6c29f11e",
      "metadata": {
        "id": "6c29f11e",
        "outputId": "851e01e7-9398-488b-9c09-9c2b98b8699d"
      },
      "outputs": [
        {
          "data": {
            "text/plain": [
              "2"
            ]
          },
          "execution_count": 43,
          "metadata": {},
          "output_type": "execute_result"
        }
      ],
      "source": [
        "np.argmax(a1)"
      ]
    },
    {
      "cell_type": "code",
      "execution_count": null,
      "id": "369232b1",
      "metadata": {
        "id": "369232b1",
        "outputId": "e62219d2-74f0-41f2-fcda-43675f596797"
      },
      "outputs": [
        {
          "data": {
            "text/plain": [
              "array([[8, 1, 3, 3, 3],\n",
              "       [7, 0, 1, 9, 9],\n",
              "       [0, 4, 7, 3, 2]])"
            ]
          },
          "execution_count": 44,
          "metadata": {},
          "output_type": "execute_result"
        }
      ],
      "source": [
        "random_array"
      ]
    },
    {
      "cell_type": "code",
      "execution_count": null,
      "id": "6efd8945",
      "metadata": {
        "id": "6efd8945",
        "outputId": "f4c79303-27a8-41c7-c8ce-c78d3ab1b30a"
      },
      "outputs": [
        {
          "data": {
            "text/plain": [
              "array([0, 2, 2, 1, 1], dtype=int64)"
            ]
          },
          "execution_count": 45,
          "metadata": {},
          "output_type": "execute_result"
        }
      ],
      "source": [
        "np.argmax(random_array, axis=0)"
      ]
    },
    {
      "cell_type": "code",
      "execution_count": null,
      "id": "5510978f",
      "metadata": {
        "id": "5510978f",
        "outputId": "9d8e7c4b-adfb-48af-8f06-bafd176b8388"
      },
      "outputs": [
        {
          "data": {
            "text/plain": [
              "array([0, 3, 2], dtype=int64)"
            ]
          },
          "execution_count": 46,
          "metadata": {},
          "output_type": "execute_result"
        }
      ],
      "source": [
        "np.argmax(random_array, axis=1)"
      ]
    },
    {
      "cell_type": "markdown",
      "id": "98dcb915",
      "metadata": {
        "id": "98dcb915"
      },
      "source": [
        "# Practical Example - NumPy in Action"
      ]
    },
    {
      "cell_type": "markdown",
      "id": "8a651789",
      "metadata": {
        "id": "8a651789"
      },
      "source": [
        "<img src=\"images/panda.png\"/>"
      ]
    },
    {
      "cell_type": "code",
      "execution_count": null,
      "id": "3a994eb1",
      "metadata": {
        "id": "3a994eb1"
      },
      "outputs": [],
      "source": [
        "#turn and img into numpy array  "
      ]
    },
    {
      "cell_type": "code",
      "execution_count": null,
      "id": "110f3f6d",
      "metadata": {
        "id": "110f3f6d",
        "outputId": "c711c2c5-a458-4a89-ac61-8582cf690100"
      },
      "outputs": [
        {
          "name": "stdout",
          "output_type": "stream",
          "text": [
            "<class 'numpy.ndarray'>\n"
          ]
        }
      ],
      "source": [
        "from matplotlib.image import imread\n",
        "\n",
        "panda = imread(\"images/panda.png\")\n",
        "print(type(panda))"
      ]
    },
    {
      "cell_type": "code",
      "execution_count": null,
      "id": "994bbb52",
      "metadata": {
        "id": "994bbb52",
        "outputId": "4436227e-9608-4e6d-991c-090090507c55"
      },
      "outputs": [
        {
          "data": {
            "text/plain": [
              "array([[[0.05490196, 0.10588235, 0.06666667],\n",
              "        [0.05490196, 0.10588235, 0.06666667],\n",
              "        [0.05490196, 0.10588235, 0.06666667],\n",
              "        ...,\n",
              "        [0.16470589, 0.12941177, 0.09411765],\n",
              "        [0.16470589, 0.12941177, 0.09411765],\n",
              "        [0.16470589, 0.12941177, 0.09411765]],\n",
              "\n",
              "       [[0.05490196, 0.10588235, 0.06666667],\n",
              "        [0.05490196, 0.10588235, 0.06666667],\n",
              "        [0.05490196, 0.10588235, 0.06666667],\n",
              "        ...,\n",
              "        [0.16470589, 0.12941177, 0.09411765],\n",
              "        [0.16470589, 0.12941177, 0.09411765],\n",
              "        [0.16470589, 0.12941177, 0.09411765]],\n",
              "\n",
              "       [[0.05490196, 0.10588235, 0.06666667],\n",
              "        [0.05490196, 0.10588235, 0.06666667],\n",
              "        [0.05490196, 0.10588235, 0.06666667],\n",
              "        ...,\n",
              "        [0.16470589, 0.12941177, 0.09411765],\n",
              "        [0.16470589, 0.12941177, 0.09411765],\n",
              "        [0.16470589, 0.12941177, 0.09411765]],\n",
              "\n",
              "       ...,\n",
              "\n",
              "       [[0.13333334, 0.07450981, 0.05490196],\n",
              "        [0.12156863, 0.0627451 , 0.04313726],\n",
              "        [0.10980392, 0.05098039, 0.03137255],\n",
              "        ...,\n",
              "        [0.02745098, 0.02745098, 0.03529412],\n",
              "        [0.02745098, 0.02745098, 0.03529412],\n",
              "        [0.02745098, 0.02745098, 0.03529412]],\n",
              "\n",
              "       [[0.13333334, 0.07450981, 0.05490196],\n",
              "        [0.12156863, 0.0627451 , 0.04313726],\n",
              "        [0.12156863, 0.0627451 , 0.04313726],\n",
              "        ...,\n",
              "        [0.02352941, 0.02352941, 0.03137255],\n",
              "        [0.02352941, 0.02352941, 0.03137255],\n",
              "        [0.02352941, 0.02352941, 0.03137255]],\n",
              "\n",
              "       [[0.13333334, 0.07450981, 0.05490196],\n",
              "        [0.12156863, 0.0627451 , 0.04313726],\n",
              "        [0.12156863, 0.0627451 , 0.04313726],\n",
              "        ...,\n",
              "        [0.02352941, 0.02352941, 0.03137255],\n",
              "        [0.02352941, 0.02352941, 0.03137255],\n",
              "        [0.02352941, 0.02352941, 0.03137255]]], dtype=float32)"
            ]
          },
          "execution_count": 51,
          "metadata": {},
          "output_type": "execute_result"
        }
      ],
      "source": [
        "panda"
      ]
    },
    {
      "cell_type": "code",
      "execution_count": null,
      "id": "0ba06934",
      "metadata": {
        "id": "0ba06934",
        "outputId": "6b3a63b8-91ce-4b45-968b-6ffcc906de7e"
      },
      "outputs": [
        {
          "data": {
            "text/plain": [
              "(24465000, (2330, 3500, 3), 3)"
            ]
          },
          "execution_count": 53,
          "metadata": {},
          "output_type": "execute_result"
        }
      ],
      "source": [
        "panda.size, panda.shape, panda.ndim"
      ]
    },
    {
      "cell_type": "code",
      "execution_count": null,
      "id": "2266a51e",
      "metadata": {
        "id": "2266a51e",
        "outputId": "868bd26e-7438-4fce-93a9-6dc75e5e1611"
      },
      "outputs": [
        {
          "data": {
            "text/plain": [
              "array([[[0.05490196, 0.10588235, 0.06666667],\n",
              "        [0.05490196, 0.10588235, 0.06666667],\n",
              "        [0.05490196, 0.10588235, 0.06666667],\n",
              "        ...,\n",
              "        [0.16470589, 0.12941177, 0.09411765],\n",
              "        [0.16470589, 0.12941177, 0.09411765],\n",
              "        [0.16470589, 0.12941177, 0.09411765]],\n",
              "\n",
              "       [[0.05490196, 0.10588235, 0.06666667],\n",
              "        [0.05490196, 0.10588235, 0.06666667],\n",
              "        [0.05490196, 0.10588235, 0.06666667],\n",
              "        ...,\n",
              "        [0.16470589, 0.12941177, 0.09411765],\n",
              "        [0.16470589, 0.12941177, 0.09411765],\n",
              "        [0.16470589, 0.12941177, 0.09411765]],\n",
              "\n",
              "       [[0.05490196, 0.10588235, 0.06666667],\n",
              "        [0.05490196, 0.10588235, 0.06666667],\n",
              "        [0.05490196, 0.10588235, 0.06666667],\n",
              "        ...,\n",
              "        [0.16470589, 0.12941177, 0.09411765],\n",
              "        [0.16470589, 0.12941177, 0.09411765],\n",
              "        [0.16470589, 0.12941177, 0.09411765]],\n",
              "\n",
              "       [[0.05490196, 0.10588235, 0.06666667],\n",
              "        [0.05490196, 0.10588235, 0.06666667],\n",
              "        [0.05490196, 0.10588235, 0.06666667],\n",
              "        ...,\n",
              "        [0.16862746, 0.13333334, 0.09803922],\n",
              "        [0.16862746, 0.13333334, 0.09803922],\n",
              "        [0.16862746, 0.13333334, 0.09803922]],\n",
              "\n",
              "       [[0.05490196, 0.10588235, 0.06666667],\n",
              "        [0.05490196, 0.10588235, 0.06666667],\n",
              "        [0.05490196, 0.10588235, 0.06666667],\n",
              "        ...,\n",
              "        [0.16862746, 0.13333334, 0.09803922],\n",
              "        [0.16862746, 0.13333334, 0.09803922],\n",
              "        [0.16862746, 0.13333334, 0.09803922]]], dtype=float32)"
            ]
          },
          "execution_count": 54,
          "metadata": {},
          "output_type": "execute_result"
        }
      ],
      "source": [
        "panda[:5]"
      ]
    },
    {
      "cell_type": "markdown",
      "id": "143ca7a1",
      "metadata": {
        "id": "143ca7a1"
      },
      "source": [
        "<img src=\"images/car-photo.png\">"
      ]
    },
    {
      "cell_type": "code",
      "execution_count": null,
      "id": "fd23055d",
      "metadata": {
        "id": "fd23055d",
        "outputId": "f28c2883-ca83-4e6f-d168-7f0b8073a459"
      },
      "outputs": [
        {
          "name": "stdout",
          "output_type": "stream",
          "text": [
            "<class 'numpy.ndarray'>\n"
          ]
        }
      ],
      "source": [
        "car = imread(\"images/car-photo.png\")\n",
        "print(type(car))\n"
      ]
    },
    {
      "cell_type": "code",
      "execution_count": null,
      "id": "e3ab3291",
      "metadata": {
        "id": "e3ab3291",
        "outputId": "fa841c58-4f1b-4bfc-ddd0-a25fee6e19c4"
      },
      "outputs": [
        {
          "data": {
            "text/plain": [
              "array([[[0.5019608 , 0.50980395, 0.4862745 , 1.        ],\n",
              "        [0.3372549 , 0.34509805, 0.30588236, 1.        ],\n",
              "        [0.20392157, 0.21568628, 0.14901961, 1.        ],\n",
              "        ...,\n",
              "        [0.64705884, 0.7058824 , 0.54901963, 1.        ],\n",
              "        [0.59607846, 0.63529414, 0.45882353, 1.        ],\n",
              "        [0.44705883, 0.47058824, 0.3372549 , 1.        ]]], dtype=float32)"
            ]
          },
          "execution_count": 56,
          "metadata": {},
          "output_type": "execute_result"
        }
      ],
      "source": [
        "car[:1]"
      ]
    },
    {
      "cell_type": "markdown",
      "id": "dde3222f",
      "metadata": {
        "id": "dde3222f"
      },
      "source": [
        "<img src='images/dog-photo.png'/>"
      ]
    },
    {
      "cell_type": "code",
      "execution_count": null,
      "id": "9df9e2da",
      "metadata": {
        "id": "9df9e2da",
        "outputId": "864a2975-a216-4e08-c5f6-90b1845e5038"
      },
      "outputs": [
        {
          "name": "stdout",
          "output_type": "stream",
          "text": [
            "<class 'numpy.ndarray'>\n"
          ]
        }
      ],
      "source": [
        "dog = imread(\"images/dog-photo.png\")\n",
        "print(type(dog))"
      ]
    },
    {
      "cell_type": "code",
      "execution_count": null,
      "id": "546905e1",
      "metadata": {
        "id": "546905e1",
        "outputId": "b1d7bc33-86b9-46d9-f5e4-bece4d21cfba"
      },
      "outputs": [
        {
          "data": {
            "text/plain": [
              "array([[[0.70980394, 0.80784315, 0.88235295, 1.        ],\n",
              "        [0.72156864, 0.8117647 , 0.8862745 , 1.        ],\n",
              "        [0.7411765 , 0.8156863 , 0.8862745 , 1.        ],\n",
              "        ...,\n",
              "        [0.49803922, 0.6862745 , 0.8392157 , 1.        ],\n",
              "        [0.49411765, 0.68235296, 0.8392157 , 1.        ],\n",
              "        [0.49411765, 0.68235296, 0.8352941 , 1.        ]],\n",
              "\n",
              "       [[0.69411767, 0.8039216 , 0.8862745 , 1.        ],\n",
              "        [0.7019608 , 0.8039216 , 0.88235295, 1.        ],\n",
              "        [0.7058824 , 0.80784315, 0.88235295, 1.        ],\n",
              "        ...,\n",
              "        [0.5019608 , 0.6862745 , 0.84705883, 1.        ],\n",
              "        [0.49411765, 0.68235296, 0.84313726, 1.        ],\n",
              "        [0.49411765, 0.68235296, 0.8392157 , 1.        ]],\n",
              "\n",
              "       [[0.6901961 , 0.8       , 0.88235295, 1.        ],\n",
              "        [0.69803923, 0.8039216 , 0.88235295, 1.        ],\n",
              "        [0.7058824 , 0.80784315, 0.88235295, 1.        ],\n",
              "        ...,\n",
              "        [0.5019608 , 0.6862745 , 0.84705883, 1.        ],\n",
              "        [0.49803922, 0.6862745 , 0.84313726, 1.        ],\n",
              "        [0.49803922, 0.6862745 , 0.84313726, 1.        ]],\n",
              "\n",
              "       ...,\n",
              "\n",
              "       [[0.9098039 , 0.81960785, 0.654902  , 1.        ],\n",
              "        [0.8352941 , 0.7490196 , 0.6509804 , 1.        ],\n",
              "        [0.72156864, 0.6313726 , 0.5372549 , 1.        ],\n",
              "        ...,\n",
              "        [0.01568628, 0.07058824, 0.02352941, 1.        ],\n",
              "        [0.03921569, 0.09411765, 0.03529412, 1.        ],\n",
              "        [0.03921569, 0.09019608, 0.05490196, 1.        ]],\n",
              "\n",
              "       [[0.9137255 , 0.83137256, 0.6784314 , 1.        ],\n",
              "        [0.8117647 , 0.7294118 , 0.627451  , 1.        ],\n",
              "        [0.65882355, 0.5686275 , 0.47843137, 1.        ],\n",
              "        ...,\n",
              "        [0.00392157, 0.05490196, 0.03529412, 1.        ],\n",
              "        [0.03137255, 0.09019608, 0.05490196, 1.        ],\n",
              "        [0.04705882, 0.10588235, 0.06666667, 1.        ]],\n",
              "\n",
              "       [[0.9137255 , 0.83137256, 0.68235296, 1.        ],\n",
              "        [0.76862746, 0.68235296, 0.5882353 , 1.        ],\n",
              "        [0.59607846, 0.5058824 , 0.44313726, 1.        ],\n",
              "        ...,\n",
              "        [0.03921569, 0.10196079, 0.07058824, 1.        ],\n",
              "        [0.02745098, 0.08235294, 0.05882353, 1.        ],\n",
              "        [0.05098039, 0.11372549, 0.07058824, 1.        ]]], dtype=float32)"
            ]
          },
          "execution_count": 60,
          "metadata": {},
          "output_type": "execute_result"
        }
      ],
      "source": [
        "dog"
      ]
    },
    {
      "cell_type": "code",
      "execution_count": null,
      "id": "3c7300c1",
      "metadata": {
        "id": "3c7300c1"
      },
      "outputs": [],
      "source": []
    }
  ],
  "metadata": {
    "kernelspec": {
      "display_name": "Python 3 (ipykernel)",
      "language": "python",
      "name": "python3"
    },
    "language_info": {
      "codemirror_mode": {
        "name": "ipython",
        "version": 3
      },
      "file_extension": ".py",
      "mimetype": "text/x-python",
      "name": "python",
      "nbconvert_exporter": "python",
      "pygments_lexer": "ipython3",
      "version": "3.9.7"
    },
    "colab": {
      "provenance": [],
      "collapsed_sections": [
        "e2057a21",
        "f0a9fd78",
        "c36d5ea8",
        "e8f37fcc",
        "46decefb",
        "121ea94b",
        "206e1552",
        "0597f53c",
        "2a01e37d",
        "98dcb915"
      ],
      "include_colab_link": true
    }
  },
  "nbformat": 4,
  "nbformat_minor": 5
}